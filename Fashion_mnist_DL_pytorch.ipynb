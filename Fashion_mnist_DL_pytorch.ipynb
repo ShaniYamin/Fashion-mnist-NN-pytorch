{
  "nbformat": 4,
  "nbformat_minor": 0,
  "metadata": {
    "colab": {
      "provenance": [],
      "include_colab_link": true
    },
    "kernelspec": {
      "name": "python3",
      "display_name": "Python 3"
    },
    "language_info": {
      "name": "python"
    },
    "gpuClass": "standard",
    "accelerator": "GPU"
  },
  "cells": [
    {
      "cell_type": "markdown",
      "metadata": {
        "id": "view-in-github",
        "colab_type": "text"
      },
      "source": [
        "<a href=\"https://colab.research.google.com/github/ShaniYamin/Fashion-mnist-NN-pytorch/blob/main/Fashion_mnist_DL_pytorch.ipynb\" target=\"_parent\"><img src=\"https://colab.research.google.com/assets/colab-badge.svg\" alt=\"Open In Colab\"/></a>"
      ]
    },
    {
      "cell_type": "markdown",
      "source": [
        "# Assignment Part 2 - Basics of deep learning\n",
        "\n",
        "---\n",
        "<br>\n",
        "\n",
        "### Names:\n",
        "Student 1:Shani Yamin \n",
        "<br>\n",
        "Student 2:Noam Meir "
      ],
      "metadata": {
        "collapsed": false,
        "pycharm": {
          "name": "#%% md\n"
        },
        "id": "XDDbguyGU8Fs"
      }
    },
    {
      "cell_type": "markdown",
      "source": [
        "## Fashion MNIST with Pytorch\n",
        "Fashion MNIST dataset contains 70,000 grayscale images in 10 categories. The images show individual articles of clothing at low resolution (28 by 28 pixels), as seen here:\n",
        "\n",
        "<table>\n",
        "  <tr><td>\n",
        "    <img src=\"https://i.postimg.cc/RVVCnL8w/mnist-fa-torch.png\"\n",
        "         alt=\"Fashion MNIST sprite\"  width=\"600\">\n",
        "  </td></tr>\n",
        "  \n",
        "</table>\n"
      ],
      "metadata": {
        "id": "JLkWLC8f3HZI"
      }
    },
    {
      "cell_type": "markdown",
      "source": [
        "Loading the dataset returns four NumPy arrays:\n",
        "\n",
        "* The `train_images` and `train_labels` arrays are the *training set*—the data the model uses to learn.\n",
        "* The model is tested against the *test set*, the `test_images`, and `test_labels` arrays.\n",
        "\n",
        "The images are 28x28 NumPy arrays, with pixel values ranging between 0 and 255. The *labels* are an array of integers, ranging from 0 to 9. These correspond to the *class* of clothing the image represents:\n",
        "\n",
        "<table>\n",
        "  <tr>\n",
        "    <th>Label</th>\n",
        "    <th>Class</th>\n",
        "  </tr>\n",
        "  <tr>\n",
        "    <td>0</td>\n",
        "    <td>T-shirt/top</td>\n",
        "  </tr>\n",
        "  <tr>\n",
        "    <td>1</td>\n",
        "    <td>Trouser</td>\n",
        "  </tr>\n",
        "    <tr>\n",
        "    <td>2</td>\n",
        "    <td>Pullover</td>\n",
        "  </tr>\n",
        "    <tr>\n",
        "    <td>3</td>\n",
        "    <td>Dress</td>\n",
        "  </tr>\n",
        "    <tr>\n",
        "    <td>4</td>\n",
        "    <td>Coat</td>\n",
        "  </tr>\n",
        "    <tr>\n",
        "    <td>5</td>\n",
        "    <td>Sandal</td>\n",
        "  </tr>\n",
        "    <tr>\n",
        "    <td>6</td>\n",
        "    <td>Shirt</td>\n",
        "  </tr>\n",
        "    <tr>\n",
        "    <td>7</td>\n",
        "    <td>Sneaker</td>\n",
        "  </tr>\n",
        "    <tr>\n",
        "    <td>8</td>\n",
        "    <td>Bag</td>\n",
        "  </tr>\n",
        "    <tr>\n",
        "    <td>9</td>\n",
        "    <td>Ankle boot</td>\n",
        "  </tr>\n",
        "</table>\n",
        "\n",
        "<br>\n",
        "\n",
        "# Goodluck!"
      ],
      "metadata": {
        "id": "WiRxNFCn3Vxd"
      }
    },
    {
      "cell_type": "markdown",
      "source": [
        "# Neural Network with Pytorch part 1 (Binary Classification)"
      ],
      "metadata": {
        "collapsed": false,
        "pycharm": {
          "name": "#%% md\n"
        },
        "id": "EU8d54pEU8GF"
      }
    },
    {
      "cell_type": "markdown",
      "source": [
        "## Import Libraries"
      ],
      "metadata": {
        "id": "UPCSaccR32De"
      }
    },
    {
      "cell_type": "code",
      "execution_count": null,
      "outputs": [
        {
          "output_type": "stream",
          "name": "stdout",
          "text": [
            "Using cpu device\n"
          ]
        }
      ],
      "source": [
        "import torch\n",
        "import numpy as np\n",
        "from sklearn.model_selection import train_test_split\n",
        "from sklearn.datasets import fetch_openml\n",
        "import matplotlib.pyplot as plt\n",
        "import tensorflow as tf\n",
        "from tensorflow import keras\n",
        "from keras.datasets import mnist\n",
        "device = \"cuda\" if torch.cuda.is_available() else \"cpu\"\n",
        "print(f\"Using {device} device\")"
      ],
      "metadata": {
        "pycharm": {
          "name": "#%%\n"
        },
        "id": "RyvoZdAXU8GG",
        "colab": {
          "base_uri": "https://localhost:8080/"
        },
        "outputId": "06f38993-e419-40ef-dc54-e30e51adc485"
      }
    },
    {
      "cell_type": "markdown",
      "source": [
        "## Load Dataset"
      ],
      "metadata": {
        "id": "Q1WPjPPR6Wpr"
      }
    },
    {
      "cell_type": "code",
      "source": [
        "fashion_mnist = keras.datasets.fashion_mnist\n",
        "\n",
        "(X_train, y_train), (X_test, y_test) = fashion_mnist.load_data()\n",
        "class_names = ['T-shirt/top', 'Trouser', 'Pullover', 'Dress', 'Coat',\n",
        "               'Sandal', 'Shirt', 'Sneaker', 'Bag', 'Ankle boot']\n",
        "print(X_test[1].shape)\n",
        "plt.imshow(X_test[1])\n",
        "plt.show()"
      ],
      "metadata": {
        "id": "-oESjif0xw8m",
        "colab": {
          "base_uri": "https://localhost:8080/",
          "height": 282
        },
        "outputId": "692e51cd-3be3-4ba0-b37b-68457c3af4d6"
      },
      "execution_count": null,
      "outputs": [
        {
          "output_type": "stream",
          "name": "stdout",
          "text": [
            "(28, 28)\n"
          ]
        },
        {
          "output_type": "display_data",
          "data": {
            "text/plain": [
              "<Figure size 432x288 with 1 Axes>"
            ],
            "image/png": "[encoded data removed]"
          },
          "metadata": {
            "needs_background": "light"
          }
        }
      ]
    },
    {
      "cell_type": "code",
      "source": [
        "# print(len(trainSet.targets))"
      ],
      "metadata": {
        "id": "JhNsxEP63Rx2"
      },
      "execution_count": null,
      "outputs": []
    },
    {
      "cell_type": "markdown",
      "source": [
        "## Data preprocessing"
      ],
      "metadata": {
        "collapsed": false,
        "pycharm": {
          "name": "#%% md\n"
        },
        "id": "6Sm0udbSU8GG"
      }
    },
    {
      "cell_type": "markdown",
      "source": [
        "### Feature scaling"
      ],
      "metadata": {
        "collapsed": false,
        "pycharm": {
          "name": "#%% md\n"
        },
        "id": "ZZAUfLmVU8GH"
      }
    },
    {
      "cell_type": "code",
      "execution_count": null,
      "outputs": [],
      "source": [
        "X_train = X_train/255.0\n",
        "X_test = X_test/255.0"
      ],
      "metadata": {
        "pycharm": {
          "name": "#%%\n"
        },
        "id": "hzqQphx7U8GH"
      }
    },
    {
      "cell_type": "markdown",
      "source": [
        "Showing the dataset"
      ],
      "metadata": {
        "id": "HM8cfNzE39Q0"
      }
    },
    {
      "cell_type": "code",
      "source": [
        "plt.figure(figsize=(10,10))\n",
        "for i in range(20):\n",
        "    plt.subplot(5,5,i+1)\n",
        "    plt.xticks([])\n",
        "    plt.yticks([])\n",
        "    plt.grid(False)\n",
        "    plt.imshow(X_train[i], cmap=plt.cm.binary)\n",
        "    # print(X_train.shape)\n",
        "    plt.xlabel(class_names[y_train[i]])\n",
        "plt.show()"
      ],
      "metadata": {
        "id": "OfuQIVVOgv_3",
        "colab": {
          "base_uri": "https://localhost:8080/",
          "height": 476
        },
        "outputId": "f9081beb-b3ff-46a3-df1e-768ae0c3b8f8"
      },
      "execution_count": null,
      "outputs": [
        {
          "output_type": "display_data",
          "data": {
            "text/plain": [
              "<Figure size 720x720 with 20 Axes>"
            ],
            "image/png": "[encoded data removed]"
          },
          "metadata": {}
        }
      ]
    },
    {
      "cell_type": "markdown",
      "source": [
        "### Select two classes"
      ],
      "metadata": {
        "id": "YSzvJ196GkvO"
      }
    },
    {
      "cell_type": "code",
      "source": [
        "X_train=X_train.reshape(60000,784)\n",
        "X_test=X_test.reshape(10000,784)\n",
        "y_train=y_train.reshape(1,60000)\n",
        "y_test=y_test.reshape(1,10000)\n",
        "print(X_train.shape)\n",
        "print(X_test.shape)\n",
        "print(y_train.shape)\n",
        "print(y_test.shape)"
      ],
      "metadata": {
        "id": "T4zsxPTln5mq",
        "colab": {
          "base_uri": "https://localhost:8080/"
        },
        "outputId": "0ce7bb63-5505-411e-d6bf-9042cbb5c2b5"
      },
      "execution_count": null,
      "outputs": [
        {
          "output_type": "stream",
          "name": "stdout",
          "text": [
            "(60000, 784)\n",
            "(10000, 784)\n",
            "(1, 60000)\n",
            "(1, 10000)\n"
          ]
        }
      ]
    },
    {
      "cell_type": "markdown",
      "source": [
        "Creating binary dataset for our labels"
      ],
      "metadata": {
        "id": "r2Hu4aci4JBe"
      }
    },
    {
      "cell_type": "code",
      "source": [
        "#TODO: select two classes (for example 2-Pullover and 4-Coat)\n",
        "label0=0\n",
        "label1=3\n",
        "trainLabels=[]\n",
        "testLabels=[]\n",
        "trainPxl=[]\n",
        "testPxl=[]\n",
        "j=0\n",
        "for i, value in enumerate(y_train[0]):\n",
        "  if value==label0 or value ==label1:\n",
        "    if value==label0:\n",
        "      trainLabels.append(0)\n",
        "    else:\n",
        "      trainLabels.append(1)\n",
        "    row=X_train[i,:]\n",
        "    trainPxl.append(row)\n",
        "\n",
        "trainPxl=np.asarray(trainPxl)\n",
        "print(trainPxl.shape)\n",
        "trainLabels=np.asarray(trainLabels).reshape(len(trainLabels),1)\n",
        "print(trainLabels.shape)\n",
        "\n",
        "\n",
        "for i, value in enumerate(y_test[0]):\n",
        "  if value==label0 or value ==label1:\n",
        "    if value==label0:\n",
        "      testLabels.append(0.0)\n",
        "    else:\n",
        "      testLabels.append(1.0)\n",
        "    row=X_test[i,:]\n",
        "    testPxl.append(row)\n",
        "\n",
        "testPxl=np.asarray(testPxl)\n",
        "print(testPxl.shape)\n",
        "testLabels=np.asarray(testLabels).reshape(len(testLabels),1)\n",
        "print(testLabels.shape)\n",
        "testPxl=testPxl.reshape(len(testPxl),784)\n",
        "testPxl=torch.tensor(testPxl,dtype=torch.float)\n",
        "testLabels=torch.tensor(testLabels,dtype=torch.float)\n",
        "testSet=torch.utils.data.TensorDataset(testPxl,testLabels)\n",
        "print(\"size: \",testSet.tensors[0].shape)"
      ],
      "metadata": {
        "id": "yjpHGlrmGlbe",
        "colab": {
          "base_uri": "https://localhost:8080/"
        },
        "outputId": "75ea3e48-8f13-41c6-d888-579afe458f61"
      },
      "execution_count": null,
      "outputs": [
        {
          "output_type": "stream",
          "name": "stdout",
          "text": [
            "(12000, 784)\n",
            "(12000, 1)\n",
            "(2000, 784)\n",
            "(2000, 1)\n",
            "size:  torch.Size([2000, 784])\n"
          ]
        }
      ]
    },
    {
      "cell_type": "markdown",
      "source": [
        "Use Pytorch data tools to preprocessed the row data<br>\n",
        "Read about pytorch data tools here: https://pytorch.org/docs/stable/data.html"
      ],
      "metadata": {
        "collapsed": false,
        "pycharm": {
          "name": "#%% md\n"
        },
        "id": "FlCtN7Y-U8GH"
      }
    },
    {
      "cell_type": "markdown",
      "source": [
        "Creating train and validation sets "
      ],
      "metadata": {
        "id": "bFws_Qg-4TVC"
      }
    },
    {
      "cell_type": "code",
      "source": [
        "trainPxl=trainPxl.reshape(len(trainPxl),784)\n",
        "trainPxl=torch.tensor(trainPxl,dtype=torch.float)\n",
        "trainLabels=torch.tensor(trainLabels,dtype=torch.float)\n",
        "x_train,x_valid,Y_train,Y_valid=train_test_split(trainPxl,trainLabels,test_size=0.2,random_state=13)\n",
        "print(Y_train.shape)\n",
        "print(Y_valid.shape)\n",
        "trainSet=torch.utils.data.TensorDataset(x_train,Y_train)\n",
        "validSet=torch.utils.data.TensorDataset(x_valid,Y_valid)\n"
      ],
      "metadata": {
        "id": "Io6XIltF6dhn",
        "colab": {
          "base_uri": "https://localhost:8080/"
        },
        "outputId": "b7f32a27-5772-4d1d-be05-29d1f739c63a"
      },
      "execution_count": null,
      "outputs": [
        {
          "output_type": "stream",
          "name": "stdout",
          "text": [
            "torch.Size([9600, 1])\n",
            "torch.Size([2400, 1])\n"
          ]
        }
      ]
    },
    {
      "cell_type": "markdown",
      "source": [
        "Define the dataloader"
      ],
      "metadata": {
        "id": "3j1lCD1y4bXB"
      }
    },
    {
      "cell_type": "code",
      "execution_count": null,
      "outputs": [],
      "source": [
        "from torch.utils.data import DataLoader, RandomSampler\n",
        " # WRITE YOUR CODE HERE\n",
        "train_loader=DataLoader(dataset=trainSet, batch_size=64)\n",
        "valid_loader=DataLoader(dataset=validSet, batch_size=64)\n",
        "test_loader=DataLoader(dataset=testSet,batch_size=64)"
      ],
      "metadata": {
        "pycharm": {
          "name": "#%%\n"
        },
        "id": "PrJ6v0ACU8GI"
      }
    },
    {
      "cell_type": "markdown",
      "source": [
        "### Build the network layers\n",
        "Read about Fully connected layers in pytorch here: https://pytorch.org/tutorials/beginner/basics/buildmodel_tutorial.html"
      ],
      "metadata": {
        "collapsed": false,
        "pycharm": {
          "name": "#%% md\n"
        },
        "id": "jwIzE9kSU8GI"
      }
    },
    {
      "cell_type": "markdown",
      "source": [
        "###HyperParameters"
      ],
      "metadata": {
        "id": "TAVsEScojL0i"
      }
    },
    {
      "cell_type": "code",
      "source": [
        "input_size=784\n",
        "learning_rate=0.001"
      ],
      "metadata": {
        "id": "p2pIaT0djJGc"
      },
      "execution_count": null,
      "outputs": []
    },
    {
      "cell_type": "markdown",
      "source": [
        "Define the fully connected neural network"
      ],
      "metadata": {
        "id": "wqp2Hrbr4iSY"
      }
    },
    {
      "cell_type": "code",
      "source": [
        "from torch import nn\n",
        "import torch.nn.functional as F\n",
        "\n",
        "class NeuralNetwork(nn.Module):\n",
        "  def __init__(self):\n",
        "    super().__init__()\n",
        "    self.fc1=nn.Linear(784,32)\n",
        "    self.de=nn.Dropout(0.5)\n",
        "    self.fc2=nn.Linear(32,1)\n",
        "    self.relu = nn.ReLU()\n",
        "    # WRITE YOUR CODE HERE\n",
        "\n",
        "\n",
        "  def forward(self, x):\n",
        "    out=self.fc1(x)\n",
        "    out=self.de(out)\n",
        "    out=self.relu(out)\n",
        "    out=self.fc2(out)\n",
        "    out=F.sigmoid(out)\n",
        "    return out"
      ],
      "metadata": {
        "pycharm": {
          "name": "#%%\n",
          "is_executing": true
        },
        "id": "U3IepEv6U8GI"
      },
      "execution_count": null,
      "outputs": []
    },
    {
      "cell_type": "markdown",
      "source": [
        "Create the model"
      ],
      "metadata": {
        "id": "mom-qIIv4m0X"
      }
    },
    {
      "cell_type": "code",
      "source": [
        "model = NeuralNetwork().to(device)\n",
        "# WRITE YOUR CODE HERE\n",
        "print(model)"
      ],
      "metadata": {
        "id": "urRRwc_-wvot",
        "colab": {
          "base_uri": "https://localhost:8080/"
        },
        "outputId": "74b22bc9-1001-4141-d728-5edb35a9017a"
      },
      "execution_count": null,
      "outputs": [
        {
          "output_type": "stream",
          "name": "stdout",
          "text": [
            "NeuralNetwork(\n",
            "  (fc1): Linear(in_features=784, out_features=32, bias=True)\n",
            "  (de): Dropout(p=0.5, inplace=False)\n",
            "  (fc2): Linear(in_features=32, out_features=1, bias=True)\n",
            "  (relu): ReLU()\n",
            ")\n"
          ]
        }
      ]
    },
    {
      "cell_type": "markdown",
      "source": [
        "### Build the Optimizer\n",
        "Read about the Optimizer here: https://pytorch.org/docs/stable/optim.html"
      ],
      "metadata": {
        "collapsed": false,
        "pycharm": {
          "name": "#%% md\n"
        },
        "id": "VH6cuNVOU8GJ"
      }
    },
    {
      "cell_type": "markdown",
      "source": [
        "Set the optimizer"
      ],
      "metadata": {
        "id": "jQ9qyLjn4pyO"
      }
    },
    {
      "cell_type": "code",
      "execution_count": null,
      "outputs": [],
      "source": [
        "from torch import optim\n",
        "optimizer=optim.Adam(model.parameters(),lr=learning_rate)"
      ],
      "metadata": {
        "pycharm": {
          "name": "#%%\n"
        },
        "id": "2Xndbe19U8GJ"
      }
    },
    {
      "cell_type": "markdown",
      "source": [
        "### Loss Function\n",
        "Read about Loss here: https://pytorch.org/docs/stable/optim.html"
      ],
      "metadata": {
        "id": "caZLAbsDxCFW"
      }
    },
    {
      "cell_type": "code",
      "source": [
        "loss_func =nn.BCELoss() \n",
        "# WRITE YOUR CODE HERE"
      ],
      "metadata": {
        "id": "n9YuCsxFxDEl"
      },
      "execution_count": null,
      "outputs": []
    },
    {
      "cell_type": "markdown",
      "source": [
        "### Training\n",
        "Train your model, Don't forget to store the \"loss\" and \"Accuracy\" while training, you will have to show them later.<br>\n",
        "Read about Loss here: https://pytorch.org/tutorials/beginner/introyt/trainingyt.html"
      ],
      "metadata": {
        "collapsed": false,
        "pycharm": {
          "name": "#%% md\n"
        },
        "id": "c7kXhHkoU8GJ"
      }
    },
    {
      "cell_type": "markdown",
      "source": [
        "checking the train_loader, that has the good data"
      ],
      "metadata": {
        "id": "zuPSMMACIJgf"
      }
    },
    {
      "cell_type": "code",
      "source": [
        "def get_accuracy(scores, targets):\n",
        "  binary_scores = scores>0.5\n",
        "  accuracy_vector = binary_scores == targets\n",
        "  return accuracy_vector.sum() / len(accuracy_vector)"
      ],
      "metadata": {
        "id": "aeumKvM7y7zs"
      },
      "execution_count": null,
      "outputs": []
    },
    {
      "cell_type": "markdown",
      "source": [
        "Train the model"
      ],
      "metadata": {
        "id": "0cz4eDUC4xIV"
      }
    },
    {
      "cell_type": "code",
      "execution_count": null,
      "outputs": [
        {
          "output_type": "stream",
          "name": "stderr",
          "text": [
            "/usr/local/lib/python3.8/dist-packages/torch/nn/functional.py:1967: UserWarning: nn.functional.sigmoid is deprecated. Use torch.sigmoid instead.\n",
            "  warnings.warn(\"nn.functional.sigmoid is deprecated. Use torch.sigmoid instead.\")\n"
          ]
        },
        {
          "output_type": "stream",
          "name": "stdout",
          "text": [
            " train epoch num 0 loss: 0.299303 acc 88.84%\n",
            " valid epoch num 0 loss: 0.180117 acc 93.26%\n",
            " train epoch num 1 loss: 0.207017 acc 92.03%\n",
            " valid epoch num 1 loss: 0.155927 acc 94.04%\n",
            " train epoch num 2 loss: 0.189270 acc 92.87%\n",
            " valid epoch num 2 loss: 0.152260 acc 94.37%\n",
            " train epoch num 3 loss: 0.175545 acc 93.42%\n",
            " valid epoch num 3 loss: 0.139090 acc 94.20%\n",
            " train epoch num 4 loss: 0.165230 acc 93.77%\n",
            " valid epoch num 4 loss: 0.138178 acc 94.41%\n",
            " train epoch num 5 loss: 0.158105 acc 94.34%\n",
            " valid epoch num 5 loss: 0.131915 acc 94.82%\n",
            " train epoch num 6 loss: 0.150872 acc 94.55%\n",
            " valid epoch num 6 loss: 0.130576 acc 94.37%\n",
            " train epoch num 7 loss: 0.146037 acc 94.53%\n",
            " valid epoch num 7 loss: 0.130421 acc 94.74%\n",
            " train epoch num 8 loss: 0.144032 acc 94.59%\n",
            " valid epoch num 8 loss: 0.127519 acc 94.78%\n",
            " train epoch num 9 loss: 0.151070 acc 94.91%\n",
            " valid epoch num 9 loss: 0.123831 acc 94.94%\n",
            " train epoch num 10 loss: 0.139638 acc 95.09%\n",
            " valid epoch num 10 loss: 0.126147 acc 94.65%\n",
            " train epoch num 11 loss: 0.134752 acc 95.00%\n",
            " valid epoch num 11 loss: 0.125879 acc 94.78%\n",
            " train epoch num 12 loss: 0.132947 acc 95.11%\n",
            " valid epoch num 12 loss: 0.122076 acc 95.07%\n",
            " train epoch num 13 loss: 0.128460 acc 95.20%\n",
            " valid epoch num 13 loss: 0.118591 acc 95.35%\n",
            " train epoch num 14 loss: 0.129462 acc 95.23%\n",
            " valid epoch num 14 loss: 0.118152 acc 95.48%\n",
            " train epoch num 15 loss: 0.124700 acc 95.41%\n",
            " valid epoch num 15 loss: 0.119538 acc 95.39%\n",
            " train epoch num 16 loss: 0.120842 acc 95.69%\n",
            " valid epoch num 16 loss: 0.115528 acc 95.56%\n",
            " train epoch num 17 loss: 0.120113 acc 95.56%\n",
            " valid epoch num 17 loss: 0.115394 acc 95.56%\n",
            " train epoch num 18 loss: 0.118319 acc 95.80%\n",
            " valid epoch num 18 loss: 0.115536 acc 95.27%\n",
            " train epoch num 19 loss: 0.120681 acc 95.52%\n",
            " valid epoch num 19 loss: 0.112219 acc 95.72%\n",
            " train epoch num 20 loss: 0.118253 acc 95.68%\n",
            " valid epoch num 20 loss: 0.119420 acc 95.19%\n",
            " train epoch num 21 loss: 0.115984 acc 95.95%\n",
            " valid epoch num 21 loss: 0.111735 acc 95.85%\n",
            " train epoch num 22 loss: 0.113511 acc 95.93%\n",
            " valid epoch num 22 loss: 0.112492 acc 95.85%\n",
            " train epoch num 23 loss: 0.113868 acc 96.01%\n",
            " valid epoch num 23 loss: 0.114079 acc 95.64%\n",
            " train epoch num 24 loss: 0.112964 acc 95.96%\n",
            " valid epoch num 24 loss: 0.108772 acc 95.60%\n",
            " train epoch num 25 loss: 0.114682 acc 96.46%\n",
            " valid epoch num 25 loss: 0.113078 acc 95.48%\n",
            " train epoch num 26 loss: 0.104623 acc 96.18%\n",
            " valid epoch num 26 loss: 0.108308 acc 95.76%\n",
            " train epoch num 27 loss: 0.099336 acc 96.10%\n",
            " valid epoch num 27 loss: 0.105897 acc 96.01%\n",
            " train epoch num 28 loss: 0.107153 acc 96.40%\n",
            " valid epoch num 28 loss: 0.106796 acc 95.89%\n",
            " train epoch num 29 loss: 0.102360 acc 96.21%\n",
            " valid epoch num 29 loss: 0.106532 acc 95.89%\n",
            " train epoch num 30 loss: 0.118024 acc 96.35%\n",
            " valid epoch num 30 loss: 0.106147 acc 95.93%\n",
            " train epoch num 31 loss: 0.113292 acc 96.57%\n",
            " valid epoch num 31 loss: 0.106112 acc 96.01%\n",
            " train epoch num 32 loss: 0.101785 acc 96.33%\n",
            " valid epoch num 32 loss: 0.106181 acc 95.89%\n",
            " train epoch num 33 loss: 0.098512 acc 96.65%\n",
            " valid epoch num 33 loss: 0.108330 acc 96.05%\n",
            " train epoch num 34 loss: 0.098716 acc 96.40%\n",
            " valid epoch num 34 loss: 0.104899 acc 95.97%\n",
            " train epoch num 35 loss: 0.107120 acc 96.73%\n",
            " valid epoch num 35 loss: 0.103815 acc 95.97%\n",
            " train epoch num 36 loss: 0.097241 acc 96.60%\n",
            " valid epoch num 36 loss: 0.106987 acc 96.22%\n",
            " train epoch num 37 loss: 0.090415 acc 96.85%\n",
            " valid epoch num 37 loss: 0.109098 acc 96.09%\n",
            " train epoch num 38 loss: 0.097256 acc 96.46%\n",
            " valid epoch num 38 loss: 0.107913 acc 96.42%\n",
            " train epoch num 39 loss: 0.093165 acc 96.58%\n",
            " valid epoch num 39 loss: 0.109482 acc 96.01%\n",
            " train epoch num 40 loss: 0.092595 acc 96.76%\n",
            " valid epoch num 40 loss: 0.112883 acc 96.13%\n",
            " train epoch num 41 loss: 0.099848 acc 96.82%\n",
            " valid epoch num 41 loss: 0.106772 acc 96.05%\n",
            " train epoch num 42 loss: 0.097096 acc 96.80%\n",
            " valid epoch num 42 loss: 0.109850 acc 96.18%\n",
            " train epoch num 43 loss: 0.092327 acc 96.68%\n",
            " valid epoch num 43 loss: 0.115388 acc 96.18%\n",
            " train epoch num 44 loss: 0.093578 acc 96.79%\n",
            " valid epoch num 44 loss: 0.103398 acc 96.22%\n",
            " train epoch num 45 loss: 0.088027 acc 96.85%\n",
            " valid epoch num 45 loss: 0.111055 acc 96.26%\n",
            " train epoch num 46 loss: 0.089652 acc 96.92%\n",
            " valid epoch num 46 loss: 0.108144 acc 96.22%\n",
            " train epoch num 47 loss: 0.084566 acc 96.96%\n",
            " valid epoch num 47 loss: 0.107394 acc 96.18%\n",
            " train epoch num 48 loss: 0.091192 acc 96.73%\n",
            " valid epoch num 48 loss: 0.112376 acc 96.09%\n",
            " train epoch num 49 loss: 0.083713 acc 97.14%\n",
            " valid epoch num 49 loss: 0.106480 acc 96.30%\n",
            "Best validation Accuracy 0.9642269611358643\n"
          ]
        }
      ],
      "source": [
        "number_of_epochs = 50\n",
        "\n",
        "acc_for_epoch_train=[]\n",
        "max_acc_valid=0\n",
        "loss_for_epoch_train=[]\n",
        "acc_for_epoch_valid=[]\n",
        "loss_for_epoch_valid=[]\n",
        "for epoch in range(number_of_epochs): \n",
        "  accuracy_per_batch_train = []\n",
        "  accuracy_per_batch_valid = []\n",
        "  running_loss_train=0.0\n",
        "  running_loss_valid=0.0\n",
        "  model.train()\n",
        "  for idx,(data,targets) in enumerate(train_loader):\n",
        "    data = data.to(device=device)\n",
        "    targets = targets.to(device=device)   \n",
        "    scores=model(data)\n",
        "    accuracy = get_accuracy(scores,targets).detach().cpu().numpy()\n",
        "    accuracy_per_batch_train.append(accuracy)\n",
        "    loss_train=loss_func(scores,targets)\n",
        "    running_loss_train += loss_train.item()\n",
        "    optimizer.zero_grad()\n",
        "    loss_train.backward()\n",
        "    optimizer.step() \n",
        "  running_loss_train/=len(train_loader)\n",
        "  model.eval()\n",
        "  for idx,(data,targets) in enumerate(valid_loader):\n",
        "    data = data.to(device=device)\n",
        "    targets = targets.to(device=device)   \n",
        "    scores=model(data)\n",
        "    accuracy = get_accuracy(scores,targets).detach().cpu().numpy()\n",
        "    accuracy_per_batch_valid.append(accuracy)\n",
        "    loss_valid=loss_func(scores,targets)\n",
        "    running_loss_valid += loss_valid.item()\n",
        "  running_loss_valid/=len(valid_loader) \n",
        "  current_epoch_accuracy_train=np.mean(accuracy_per_batch_train)\n",
        "  current_epoch_accuracy_valid=np.mean(accuracy_per_batch_valid)\n",
        "  acc_for_epoch_train.append(current_epoch_accuracy_train)\n",
        "  loss_for_epoch_train.append(running_loss_train)\n",
        "  acc_for_epoch_valid.append(current_epoch_accuracy_valid)\n",
        "  loss_for_epoch_valid.append(running_loss_valid)\n",
        "  \n",
        "  print(f\" train epoch num {epoch} loss: {running_loss_train:.6f} acc {current_epoch_accuracy_train*100:.2f}%\")\n",
        "  print(f\" valid epoch num {epoch} loss: {running_loss_valid:.6f} acc {current_epoch_accuracy_valid*100:.2f}%\")\n",
        "print(f\"Best validation Accuracy {np.max(acc_for_epoch_valid)}\")\n",
        "  # WRITE YOUR CODE HERE"
      ],
      "metadata": {
        "pycharm": {
          "name": "#%%\n"
        },
        "id": "Sq1KOMEeU8GJ",
        "colab": {
          "base_uri": "https://localhost:8080/"
        },
        "outputId": "cca859f4-8aad-4dde-bc93-5530adbf21a4"
      }
    },
    {
      "cell_type": "markdown",
      "source": [
        "### Save Trained model (weights)\n",
        "Read about Save and load models in pytorch here: [https://pytorch.org/tutorials/beginner/saving_loading_models.html](https://pytorch.org/tutorials/beginner/saving_loading_models.html)\n"
      ],
      "metadata": {
        "id": "zS3_ZnXk450S"
      }
    },
    {
      "cell_type": "code",
      "source": [
        "# SAVE THE TRAINED MODEL\n",
        "PATH='model.pth'\n",
        "torch.save(model, PATH)\n",
        "\n",
        "#LOAD THE WEIGHTS\n",
        "model = torch.load(PATH)"
      ],
      "metadata": {
        "id": "Pb66kyHa5c-l"
      },
      "execution_count": null,
      "outputs": []
    },
    {
      "cell_type": "markdown",
      "source": [
        "### Loss and Accuracy Visualization\n",
        "Show  on plot the loss during training"
      ],
      "metadata": {
        "collapsed": false,
        "pycharm": {
          "name": "#%% md\n"
        },
        "id": "bkNYD1oRU8GK"
      }
    },
    {
      "cell_type": "code",
      "source": [
        "import matplotlib.pyplot as plt\n",
        "# WRITE YOUR CODE HERE\n",
        "\n",
        "epoch_list=np.arange(1,number_of_epochs+1)\n",
        "plt.xlabel('Epoch Number')\n",
        "plt.ylabel(\"Loss\")\n",
        "plt.plot(epoch_list, loss_for_epoch_train,label=\"train\")\n",
        "plt.plot(epoch_list, loss_for_epoch_valid,label=\"valid\")\n",
        "plt.legend()"
      ],
      "metadata": {
        "id": "LxJHNkN4B1Q1",
        "colab": {
          "base_uri": "https://localhost:8080/",
          "height": 296
        },
        "outputId": "5621f37a-05e4-449e-a33d-25fe0b5bf247"
      },
      "execution_count": null,
      "outputs": [
        {
          "output_type": "execute_result",
          "data": {
            "text/plain": [
              "<matplotlib.legend.Legend at 0x7f71a96425b0>"
            ]
          },
          "metadata": {},
          "execution_count": 201
        },
        {
          "output_type": "display_data",
          "data": {
            "text/plain": [
              "<Figure size 432x288 with 1 Axes>"
            ],
            "image/png": "[encoded data removed]"
          },
          "metadata": {
            "needs_background": "light"
          }
        }
      ]
    },
    {
      "cell_type": "markdown",
      "source": [
        "Show  on plot the accuracy during training"
      ],
      "metadata": {
        "collapsed": false,
        "pycharm": {
          "name": "#%% md\n"
        },
        "id": "w4JBO5zuU8GK"
      }
    },
    {
      "cell_type": "code",
      "execution_count": null,
      "outputs": [
        {
          "output_type": "execute_result",
          "data": {
            "text/plain": [
              "<matplotlib.legend.Legend at 0x7f71a99656d0>"
            ]
          },
          "metadata": {},
          "execution_count": 202
        },
        {
          "output_type": "display_data",
          "data": {
            "text/plain": [
              "<Figure size 432x288 with 1 Axes>"
            ],
            "image/png": "[encoded data removed]"
          },
          "metadata": {
            "needs_background": "light"
          }
        }
      ],
      "source": [
        "\n",
        "import matplotlib.pyplot as plt\n",
        "# WRITE YOUR CODE HERE\n",
        "\n",
        "epoch_list=np.arange(1,number_of_epochs+1)\n",
        "plt.xlabel('Epoch Number')\n",
        "plt.ylabel(\"Accuracy\")\n",
        "plt.plot(epoch_list, acc_for_epoch_train,label=\"train\")\n",
        "plt.plot(epoch_list, acc_for_epoch_valid,label=\"valid\")\n",
        "plt.legend()"
      ],
      "metadata": {
        "pycharm": {
          "name": "#%%\n"
        },
        "id": "hOCsxuuTU8GK",
        "colab": {
          "base_uri": "https://localhost:8080/",
          "height": 296
        },
        "outputId": "e7b7d243-73ed-479c-9ea4-973ffc2a6731"
      }
    },
    {
      "cell_type": "markdown",
      "source": [
        "### Test\n",
        "Test your model (Show accuracy by comparing the prediction VS the test label)"
      ],
      "metadata": {
        "collapsed": false,
        "pycharm": {
          "name": "#%% md\n"
        },
        "id": "SAUlD1ypU8GL"
      }
    },
    {
      "cell_type": "code",
      "execution_count": null,
      "outputs": [
        {
          "output_type": "stream",
          "name": "stdout",
          "text": [
            "Test Acc  95.8984375 %\n"
          ]
        },
        {
          "output_type": "stream",
          "name": "stderr",
          "text": [
            "/usr/local/lib/python3.8/dist-packages/torch/nn/functional.py:1967: UserWarning: nn.functional.sigmoid is deprecated. Use torch.sigmoid instead.\n",
            "  warnings.warn(\"nn.functional.sigmoid is deprecated. Use torch.sigmoid instead.\")\n"
          ]
        }
      ],
      "source": [
        "from sklearn.metrics import accuracy_score\n",
        "model = torch.load(PATH)\n",
        "model.eval()\n",
        "accuracy_per_batch_test=[]\n",
        "prediction=[]\n",
        "total_predictions_test=0\n",
        "correct_predictions_test=0\n",
        "for idx,(data,targets) in enumerate(test_loader):\n",
        "    data = data.to(device=device)\n",
        "    model = model.to(device=device) \n",
        "    targets=targets.to(device=device)  \n",
        "    scores=model(data)\n",
        "    preds= scores>=0.5\n",
        "    preds=list(preds.cpu().numpy())\n",
        "    accuracy = get_accuracy(scores,targets).detach().cpu().numpy()\n",
        "    accuracy_per_batch_test.append(accuracy)\n",
        "    prediction.extend(preds)\n",
        "current_epoch_accuracy_test=np.mean(accuracy_per_batch_test)\n",
        "print('Test Acc ', current_epoch_accuracy_test*100,'%')"
      ],
      "metadata": {
        "pycharm": {
          "name": "#%%\n"
        },
        "id": "rukB7UefU8GL",
        "colab": {
          "base_uri": "https://localhost:8080/"
        },
        "outputId": "68825fbc-5013-464f-be31-49e83c1a77c6"
      }
    },
    {
      "cell_type": "markdown",
      "source": [
        "### Model Evaluation\n",
        "Show the model evaluation by presenting the confusion metrix in a representative way<br>\n",
        "Read about confusion metrix visualization here: https://scikit-learn.org/stable/auto_examples/model_selection/plot_confusion_matrix.html"
      ],
      "metadata": {
        "collapsed": false,
        "pycharm": {
          "name": "#%% md\n"
        },
        "id": "ClevveJ3U8GL"
      }
    },
    {
      "cell_type": "code",
      "execution_count": null,
      "outputs": [
        {
          "output_type": "display_data",
          "data": {
            "text/plain": [
              "<Figure size 576x360 with 2 Axes>"
            ],
            "image/png": "[encoded data removed]"
          },
          "metadata": {
            "needs_background": "light"
          }
        }
      ],
      "source": [
        "from sklearn.metrics import confusion_matrix, ConfusionMatrixDisplay\n",
        "import itertools\n",
        "# WRITE YOUR CODE HERE\n",
        "fig, ax = plt.subplots(figsize=(8, 5))\n",
        "cmp = ConfusionMatrixDisplay(\n",
        "    confusion_matrix(testLabels,prediction), \n",
        "    display_labels=[class_names[label0],class_names[label1]])\n",
        "cmp.plot(ax=ax);"
      ],
      "metadata": {
        "pycharm": {
          "name": "#%%\n"
        },
        "id": "KHQVaRZKU8GL",
        "colab": {
          "base_uri": "https://localhost:8080/",
          "height": 334
        },
        "outputId": "fdcaaa22-97c9-4b0f-f337-0fdceac41aec"
      }
    },
    {
      "cell_type": "code",
      "source": [
        "from sklearn.metrics import classification_report\n",
        "print(testSet.tensors[1].shape)\n",
        "print(classification_report(testSet.tensors[1], prediction, labels=[0,1]))"
      ],
      "metadata": {
        "id": "a215A4jm2vda",
        "colab": {
          "base_uri": "https://localhost:8080/"
        },
        "outputId": "3f9e1285-11fd-4431-802e-38d0445d9ec5"
      },
      "execution_count": null,
      "outputs": [
        {
          "output_type": "stream",
          "name": "stdout",
          "text": [
            "torch.Size([2000, 1])\n",
            "              precision    recall  f1-score   support\n",
            "\n",
            "           0       0.96      0.96      0.96      1000\n",
            "           1       0.96      0.96      0.96      1000\n",
            "\n",
            "    accuracy                           0.96      2000\n",
            "   macro avg       0.96      0.96      0.96      2000\n",
            "weighted avg       0.96      0.96      0.96      2000\n",
            "\n"
          ]
        }
      ]
    },
    {
      "cell_type": "markdown",
      "source": [
        "---\n",
        "<br>\n",
        "\n",
        "\n",
        "# Neural Network with Pytorch part 2 (Multiclass Classification)"
      ],
      "metadata": {
        "id": "s6_ug9JLjmM8"
      }
    },
    {
      "cell_type": "markdown",
      "source": [
        "## Import Libraries"
      ],
      "metadata": {
        "id": "Dn9kBnoOkJ7B"
      }
    },
    {
      "cell_type": "code",
      "source": [
        "import torch\n",
        "from sklearn.model_selection import train_test_split\n",
        "from sklearn.datasets import fetch_openml\n",
        "import matplotlib.pyplot as plt\n",
        "from torch import optim\n",
        "device = \"cuda\" if torch.cuda.is_available() else \"cpu\"\n",
        "print(f\"Using {device} device\")"
      ],
      "metadata": {
        "id": "0L5QXTC5kK9F",
        "colab": {
          "base_uri": "https://localhost:8080/"
        },
        "outputId": "69e814e3-d4b4-4d7b-e72e-22300fec9555"
      },
      "execution_count": null,
      "outputs": [
        {
          "output_type": "stream",
          "name": "stdout",
          "text": [
            "Using cpu device\n"
          ]
        }
      ]
    },
    {
      "cell_type": "markdown",
      "source": [
        "## Load Dataset"
      ],
      "metadata": {
        "id": "pcLzuIa3kOQ_"
      }
    },
    {
      "cell_type": "code",
      "source": [
        "fashion_mnist = keras.datasets.fashion_mnist\n",
        "\n",
        "(X_train, y_train), (X_test, y_test) = fashion_mnist.load_data()\n",
        "class_names = ['T-shirt/top', 'Trouser', 'Pullover', 'Dress', 'Coat',\n",
        "               'Sandal', 'Shirt', 'Sneaker', 'Bag', 'Ankle boot']\n",
        "print(X_test[1].shape)\n",
        "plt.imshow(X_test[1])\n",
        "plt.show()"
      ],
      "metadata": {
        "id": "ZW8YzARzxz9A",
        "colab": {
          "base_uri": "https://localhost:8080/",
          "height": 282
        },
        "outputId": "4c7903af-2078-425e-f3f8-5057d04fd83c"
      },
      "execution_count": null,
      "outputs": [
        {
          "output_type": "stream",
          "name": "stdout",
          "text": [
            "(28, 28)\n"
          ]
        },
        {
          "output_type": "display_data",
          "data": {
            "text/plain": [
              "<Figure size 432x288 with 1 Axes>"
            ],
            "image/png": "[encoded data removed]"
          },
          "metadata": {
            "needs_background": "light"
          }
        }
      ]
    },
    {
      "cell_type": "markdown",
      "source": [
        "### The rest you will have to create yourself..."
      ],
      "metadata": {
        "id": "Zcr6QaXFkmI4"
      }
    },
    {
      "cell_type": "markdown",
      "source": [
        "## Models"
      ],
      "metadata": {
        "id": "xMTvB9TolhcG"
      }
    },
    {
      "cell_type": "markdown",
      "source": [
        "### Base Model"
      ],
      "metadata": {
        "id": "rOqJ_9CGk3h9"
      }
    },
    {
      "cell_type": "markdown",
      "source": [
        "Showing the dataset"
      ],
      "metadata": {
        "id": "gOdxqg3m5JS_"
      }
    },
    {
      "cell_type": "code",
      "source": [
        "plt.figure(figsize=(10,10))\n",
        "for i in range(20):\n",
        "    plt.subplot(5,5,i+1)\n",
        "    plt.xticks([])\n",
        "    plt.yticks([])\n",
        "    plt.grid(False)\n",
        "    plt.imshow(X_train[i], cmap=plt.cm.binary)\n",
        "    plt.xlabel(class_names[y_train[i]])\n",
        "plt.show()"
      ],
      "metadata": {
        "id": "1P8cINrRsMGa",
        "colab": {
          "base_uri": "https://localhost:8080/",
          "height": 476
        },
        "outputId": "b5b76fbc-ed51-4a2e-ddb5-d129e3e1c0ba"
      },
      "execution_count": null,
      "outputs": [
        {
          "output_type": "display_data",
          "data": {
            "text/plain": [
              "<Figure size 720x720 with 20 Axes>"
            ],
            "image/png": "[encoded data removed]"
          },
          "metadata": {}
        }
      ]
    },
    {
      "cell_type": "code",
      "source": [
        "print(X_train.shape)\n",
        "y_train=y_train.reshape(len(y_train),1)\n",
        "print(y_train.shape)\n",
        "print(X_test.shape)\n",
        "y_test=y_test.reshape(len(y_test),1)\n",
        "print(y_test.shape)"
      ],
      "metadata": {
        "id": "5jKhJOhesqE5",
        "colab": {
          "base_uri": "https://localhost:8080/"
        },
        "outputId": "26e8e024-d8e0-4f68-99c5-a6ff40614edc"
      },
      "execution_count": null,
      "outputs": [
        {
          "output_type": "stream",
          "name": "stdout",
          "text": [
            "(60000, 28, 28)\n",
            "(60000, 1)\n",
            "(10000, 28, 28)\n",
            "(10000, 1)\n"
          ]
        }
      ]
    },
    {
      "cell_type": "markdown",
      "source": [
        "Create dataset for the data"
      ],
      "metadata": {
        "id": "6cAItQF5xZLF"
      }
    },
    {
      "cell_type": "code",
      "source": [
        "X_train, X_test =X_train.reshape(len(X_train),784),X_test.reshape(len(X_test),784)\n",
        "X_train ,y_train=torch.tensor(X_train,dtype=torch.float),torch.tensor(y_train,dtype=torch.float)\n",
        "trainSet=torch.utils.data.TensorDataset(X_train,y_train)\n",
        "X_test ,y_test=torch.tensor(X_test,dtype=torch.float),torch.tensor(y_test,dtype=torch.float)\n",
        "testSet=torch.utils.data.TensorDataset(X_test,y_test)\n",
        "print(testSet.tensors[1].shape)"
      ],
      "metadata": {
        "id": "T2ksRjHFvFdU",
        "colab": {
          "base_uri": "https://localhost:8080/"
        },
        "outputId": "3947cf66-231d-4ace-b571-f49a859d61f6"
      },
      "execution_count": null,
      "outputs": [
        {
          "output_type": "stream",
          "name": "stdout",
          "text": [
            "torch.Size([10000, 1])\n"
          ]
        }
      ]
    },
    {
      "cell_type": "markdown",
      "source": [
        "Creating train and validation sets "
      ],
      "metadata": {
        "id": "rHtN0LCB5QN_"
      }
    },
    {
      "cell_type": "code",
      "source": [
        "\n",
        "x_train,x_valid,Y_train,Y_valid=train_test_split(X_train,y_train,test_size=0.2,random_state=13)\n",
        "print(Y_train.shape)\n",
        "print(Y_valid.shape)\n",
        "trainSet_multi=torch.utils.data.TensorDataset(x_train,Y_train)\n",
        "validSet_multi=torch.utils.data.TensorDataset(x_valid,Y_valid)\n",
        "testSet_multi=torch.utils.data.TensorDataset(X_test,y_test)"
      ],
      "metadata": {
        "id": "sFtnOgyg0N-0",
        "colab": {
          "base_uri": "https://localhost:8080/"
        },
        "outputId": "380388b2-122f-422f-e014-ca47029a7e02"
      },
      "execution_count": null,
      "outputs": [
        {
          "output_type": "stream",
          "name": "stdout",
          "text": [
            "torch.Size([48000, 1])\n",
            "torch.Size([12000, 1])\n"
          ]
        }
      ]
    },
    {
      "cell_type": "markdown",
      "source": [
        "Define the dataloader"
      ],
      "metadata": {
        "id": "108ZWJpJxxIp"
      }
    },
    {
      "cell_type": "code",
      "source": [
        "from torch.utils.data import DataLoader\n",
        "\n",
        "train_loader_multi=DataLoader(dataset=trainSet_multi,batch_size=100,shuffle=True)\n",
        "valid_loader_multi=DataLoader(dataset=validSet_multi,batch_size=100,shuffle=True)\n",
        "test_loader_multi=DataLoader(dataset=testSet_multi,batch_size=100,shuffle=True)\n"
      ],
      "metadata": {
        "id": "T7EbSGymxwON"
      },
      "execution_count": null,
      "outputs": []
    },
    {
      "cell_type": "markdown",
      "source": [
        " Define the fully connected neural network"
      ],
      "metadata": {
        "id": "61E33bkt5e1L"
      }
    },
    {
      "cell_type": "code",
      "source": [
        "from torch import nn\n",
        "import torch.nn.functional as F\n",
        "\n",
        "class NeuralNetwork1(nn.Module):\n",
        "  def __init__(self):\n",
        "    super().__init__()\n",
        "    self.fc1=nn.Linear(784,128)\n",
        "    self.de=nn.Dropout(0.5)\n",
        "    self.fc2=nn.Linear(128,32)\n",
        "    self.de=nn.Dropout(0.5)\n",
        "    self.fc3=nn.Linear(32,10)\n",
        "\n",
        "\n",
        "  def forward(self, x):\n",
        "    out=F.relu(self.fc1(x))\n",
        "    out=self.de(out)\n",
        "    out=F.relu(self.fc2(out))\n",
        "    out=self.de(out)\n",
        "    out=self.fc3(out)\n",
        "    return out\n",
        "\n",
        "  def predict(self,X_test):\n",
        "    data = X_test.to(device)\n",
        "    outputs = self(data)           \n",
        "    _,predicted = torch.max(outputs.data,1)\n",
        "    print(predicted)      \n",
        "            \n",
        "    return predicted\n"
      ],
      "metadata": {
        "id": "ZW919ZdUzCoy"
      },
      "execution_count": null,
      "outputs": []
    },
    {
      "cell_type": "code",
      "source": [
        "model_multi= NeuralNetwork1().to(device)"
      ],
      "metadata": {
        "id": "ySk_oXYfy6ec"
      },
      "execution_count": null,
      "outputs": []
    },
    {
      "cell_type": "markdown",
      "source": [
        "Create the model and set the optimizer\n",
        "\n"
      ],
      "metadata": {
        "id": "vU905qeV5kiw"
      }
    },
    {
      "cell_type": "code",
      "source": [
        "criterion=nn.CrossEntropyLoss()\n",
        "optimizer = optim.SGD(model_multi.parameters(), lr=0.0005)"
      ],
      "metadata": {
        "id": "-WVsaHS7yVHJ"
      },
      "execution_count": null,
      "outputs": []
    },
    {
      "cell_type": "markdown",
      "source": [
        "Train the model"
      ],
      "metadata": {
        "id": "93xIERgO5qSn"
      }
    },
    {
      "cell_type": "code",
      "source": [
        "number_of_epochs = 50\n",
        "acc_for_epoch_train_multi=[]\n",
        "loss_for_epoch_train_multi=[]\n",
        "acc_for_epoch_valid_multi=[]\n",
        "loss_for_epoch_valid_multi=[]\n",
        "for epoch in range(number_of_epochs): \n",
        "  running_loss_train_multi=0.0\n",
        "  running_loss_valid_multi=0.0\n",
        "  total_predictions_train = 0\n",
        "  correct_predictions_train = 0 \n",
        "  total_predictions_valid = 0.0\n",
        "  correct_predictions_valid = 0.0\n",
        "  model_multi.train()\n",
        "  for idx,(data,targets) in enumerate(train_loader_multi):\n",
        "    data = data.to(device=device)\n",
        "    targets = targets.to(device=device) \n",
        "    scores=model_multi(data)\n",
        "    \n",
        "    targets=targets.reshape(len(targets)).type(torch.LongTensor).to(device)\n",
        "    loss_train_multi=criterion(scores,targets)\n",
        "    running_loss_train_multi += loss_train_multi.item()\n",
        "    _, predicted = torch.max(scores.data, 1)\n",
        "    total_predictions_train += targets.size(0)\n",
        "    correct_predictions_train += (predicted == targets).sum().item()\n",
        "\n",
        "    optimizer.zero_grad()\n",
        "    loss_train_multi.backward()\n",
        "    optimizer.step() \n",
        "  acc_train = (correct_predictions_train/total_predictions_train)* 100.0\n",
        "  running_loss_train_multi/=len(train_loader_multi)\n",
        "  model_multi.eval()\n",
        "  for idx,(data,targets) in enumerate(valid_loader_multi):\n",
        "    data = data.to(device=device)\n",
        "    targets = targets.to(device=device)   \n",
        "    scores=model_multi(data)\n",
        "    targets=targets.reshape(len(targets)).type(torch.LongTensor).to(device)\n",
        "    loss_valid_multi=criterion(scores,targets)\n",
        "    running_loss_valid_multi += loss_valid_multi.item()\n",
        "    _, predicted = torch.max(scores.data, 1)\n",
        "    total_predictions_valid += targets.size(0)\n",
        "    correct_predictions_valid += (predicted == targets).sum().item()\n",
        "  acc_valid = (correct_predictions_valid/total_predictions_valid)* 100.0\n",
        "  running_loss_valid_multi/=len(valid_loader_multi) \n",
        "  acc_for_epoch_train_multi.append(acc_train)\n",
        "  loss_for_epoch_train_multi.append(running_loss_train_multi)\n",
        "  acc_for_epoch_valid_multi.append(acc_valid)\n",
        "  loss_for_epoch_valid_multi.append(running_loss_valid_multi)\n",
        "  \n",
        "  print(f\" train epoch num {epoch} loss: {running_loss_train_multi:.6f} acc {acc_train:.2f}%\")\n",
        "  print(f\" valid epoch num {epoch} loss: {running_loss_valid_multi:.6f} acc {acc_valid:.2f}%\")\n",
        "  # WRITE YOUR CODE HERE\n",
        "print(f\"Best validatiion accuracy {np.max(acc_for_epoch_valid_multi)}\")"
      ],
      "metadata": {
        "id": "8_U5mmHq8NrH",
        "colab": {
          "base_uri": "https://localhost:8080/"
        },
        "outputId": "9052885e-555a-40c5-e1d7-fdd1aa41c036"
      },
      "execution_count": null,
      "outputs": [
        {
          "output_type": "stream",
          "name": "stdout",
          "text": [
            " train epoch num 0 loss: 2.290923 acc 27.08%\n",
            " valid epoch num 0 loss: 1.277190 acc 59.14%\n",
            " train epoch num 1 loss: 1.595468 acc 42.26%\n",
            " valid epoch num 1 loss: 1.081148 acc 65.72%\n",
            " train epoch num 2 loss: 1.430358 acc 49.66%\n",
            " valid epoch num 2 loss: 0.997404 acc 66.88%\n",
            " train epoch num 3 loss: 1.329739 acc 54.54%\n",
            " valid epoch num 3 loss: 0.865806 acc 70.92%\n",
            " train epoch num 4 loss: 1.251956 acc 57.44%\n",
            " valid epoch num 4 loss: 0.841205 acc 71.75%\n",
            " train epoch num 5 loss: 1.183930 acc 59.53%\n",
            " valid epoch num 5 loss: 0.762586 acc 72.06%\n",
            " train epoch num 6 loss: 1.142831 acc 60.81%\n",
            " valid epoch num 6 loss: 0.733043 acc 72.76%\n",
            " train epoch num 7 loss: 1.108662 acc 61.90%\n",
            " valid epoch num 7 loss: 0.704879 acc 73.47%\n",
            " train epoch num 8 loss: 1.075418 acc 62.73%\n",
            " valid epoch num 8 loss: 0.689473 acc 74.13%\n",
            " train epoch num 9 loss: 1.048965 acc 63.10%\n",
            " valid epoch num 9 loss: 0.670771 acc 74.26%\n",
            " train epoch num 10 loss: 1.018448 acc 63.68%\n",
            " valid epoch num 10 loss: 0.666081 acc 75.02%\n",
            " train epoch num 11 loss: 0.994909 acc 64.39%\n",
            " valid epoch num 11 loss: 0.646993 acc 74.47%\n",
            " train epoch num 12 loss: 0.984187 acc 64.47%\n",
            " valid epoch num 12 loss: 0.644699 acc 77.53%\n",
            " train epoch num 13 loss: 0.963950 acc 65.49%\n",
            " valid epoch num 13 loss: 0.624472 acc 77.76%\n",
            " train epoch num 14 loss: 0.944813 acc 65.76%\n",
            " valid epoch num 14 loss: 0.612447 acc 78.22%\n",
            " train epoch num 15 loss: 0.938234 acc 66.33%\n",
            " valid epoch num 15 loss: 0.610310 acc 77.56%\n",
            " train epoch num 16 loss: 0.920644 acc 66.96%\n",
            " valid epoch num 16 loss: 0.605599 acc 76.08%\n",
            " train epoch num 17 loss: 0.910237 acc 67.27%\n",
            " valid epoch num 17 loss: 0.597168 acc 77.60%\n",
            " train epoch num 18 loss: 0.896778 acc 67.75%\n",
            " valid epoch num 18 loss: 0.590065 acc 79.87%\n",
            " train epoch num 19 loss: 0.888595 acc 67.70%\n",
            " valid epoch num 19 loss: 0.590671 acc 78.92%\n",
            " train epoch num 20 loss: 0.886429 acc 68.08%\n",
            " valid epoch num 20 loss: 0.587282 acc 79.22%\n",
            " train epoch num 21 loss: 0.880558 acc 68.27%\n",
            " valid epoch num 21 loss: 0.581738 acc 78.38%\n",
            " train epoch num 22 loss: 0.867485 acc 68.70%\n",
            " valid epoch num 22 loss: 0.587883 acc 79.33%\n",
            " train epoch num 23 loss: 0.868505 acc 68.62%\n",
            " valid epoch num 23 loss: 0.583600 acc 80.63%\n",
            " train epoch num 24 loss: 0.862958 acc 68.47%\n",
            " valid epoch num 24 loss: 0.582372 acc 78.63%\n",
            " train epoch num 25 loss: 0.855904 acc 68.98%\n",
            " valid epoch num 25 loss: 0.567679 acc 78.79%\n",
            " train epoch num 26 loss: 0.853986 acc 68.90%\n",
            " valid epoch num 26 loss: 0.570802 acc 78.43%\n",
            " train epoch num 27 loss: 0.849082 acc 69.37%\n",
            " valid epoch num 27 loss: 0.566048 acc 79.46%\n",
            " train epoch num 28 loss: 0.839608 acc 69.60%\n",
            " valid epoch num 28 loss: 0.571693 acc 80.38%\n",
            " train epoch num 29 loss: 0.833399 acc 69.71%\n",
            " valid epoch num 29 loss: 0.563570 acc 80.86%\n",
            " train epoch num 30 loss: 0.825874 acc 69.79%\n",
            " valid epoch num 30 loss: 0.563616 acc 77.32%\n",
            " train epoch num 31 loss: 0.824538 acc 69.98%\n",
            " valid epoch num 31 loss: 0.565158 acc 81.39%\n",
            " train epoch num 32 loss: 0.818203 acc 70.16%\n",
            " valid epoch num 32 loss: 0.563802 acc 79.27%\n",
            " train epoch num 33 loss: 0.823203 acc 70.04%\n",
            " valid epoch num 33 loss: 0.557288 acc 79.39%\n",
            " train epoch num 34 loss: 0.815422 acc 70.37%\n",
            " valid epoch num 34 loss: 0.558346 acc 81.46%\n",
            " train epoch num 35 loss: 0.808201 acc 70.63%\n",
            " valid epoch num 35 loss: 0.553338 acc 78.84%\n",
            " train epoch num 36 loss: 0.811059 acc 70.62%\n",
            " valid epoch num 36 loss: 0.557657 acc 80.91%\n",
            " train epoch num 37 loss: 0.803292 acc 70.78%\n",
            " valid epoch num 37 loss: 0.557048 acc 77.57%\n",
            " train epoch num 38 loss: 0.801381 acc 70.81%\n",
            " valid epoch num 38 loss: 0.550640 acc 81.59%\n",
            " train epoch num 39 loss: 0.793537 acc 71.10%\n",
            " valid epoch num 39 loss: 0.552344 acc 80.96%\n",
            " train epoch num 40 loss: 0.790826 acc 71.39%\n",
            " valid epoch num 40 loss: 0.547920 acc 81.18%\n",
            " train epoch num 41 loss: 0.786125 acc 71.23%\n",
            " valid epoch num 41 loss: 0.548866 acc 79.31%\n",
            " train epoch num 42 loss: 0.786453 acc 71.48%\n",
            " valid epoch num 42 loss: 0.543475 acc 82.68%\n",
            " train epoch num 43 loss: 0.780527 acc 71.56%\n",
            " valid epoch num 43 loss: 0.547697 acc 83.24%\n",
            " train epoch num 44 loss: 0.776471 acc 71.70%\n",
            " valid epoch num 44 loss: 0.544947 acc 80.91%\n",
            " train epoch num 45 loss: 0.781287 acc 71.56%\n",
            " valid epoch num 45 loss: 0.545476 acc 82.62%\n",
            " train epoch num 46 loss: 0.769744 acc 71.96%\n",
            " valid epoch num 46 loss: 0.546312 acc 79.84%\n",
            " train epoch num 47 loss: 0.773564 acc 71.88%\n",
            " valid epoch num 47 loss: 0.545559 acc 82.67%\n",
            " train epoch num 48 loss: 0.768016 acc 72.22%\n",
            " valid epoch num 48 loss: 0.535303 acc 80.18%\n",
            " train epoch num 49 loss: 0.767928 acc 72.00%\n",
            " valid epoch num 49 loss: 0.538139 acc 82.19%\n",
            "Best validatiion accuracy 83.24166666666667\n"
          ]
        }
      ]
    },
    {
      "cell_type": "markdown",
      "source": [
        "Save Trained model (weights)"
      ],
      "metadata": {
        "id": "z5CbmGjw65aB"
      }
    },
    {
      "cell_type": "code",
      "source": [
        "# SAVE THE TRAINED MODEL\n",
        "PATH='model_multi.pth'\n",
        "torch.save(model_multi, PATH)"
      ],
      "metadata": {
        "id": "djzxKnM0I_Qb"
      },
      "execution_count": null,
      "outputs": []
    },
    {
      "cell_type": "markdown",
      "source": [
        "Show on plot the loss during training"
      ],
      "metadata": {
        "id": "49dTQvhE7D0O"
      }
    },
    {
      "cell_type": "code",
      "source": [
        "import matplotlib.pyplot as plt\n",
        "# WRITE YOUR CODE HERE\n",
        "\n",
        "epoch_list=np.arange(1,number_of_epochs+1)\n",
        "plt.xlabel('Epoch Number')\n",
        "plt.ylabel(\"Loss\")\n",
        "plt.plot(epoch_list, loss_for_epoch_train_multi,label=\"train\")\n",
        "plt.plot(epoch_list, loss_for_epoch_valid_multi,label=\"valid\")\n",
        "plt.legend()"
      ],
      "metadata": {
        "id": "vyDUbErwSZK1",
        "colab": {
          "base_uri": "https://localhost:8080/",
          "height": 296
        },
        "outputId": "22c58477-7ffd-4849-b908-ca8c670cda0e"
      },
      "execution_count": null,
      "outputs": [
        {
          "output_type": "execute_result",
          "data": {
            "text/plain": [
              "<matplotlib.legend.Legend at 0x7f71a8d77a60>"
            ]
          },
          "metadata": {},
          "execution_count": 218
        },
        {
          "output_type": "display_data",
          "data": {
            "text/plain": [
              "<Figure size 432x288 with 1 Axes>"
            ],
            "image/png": "[encoded data removed]"
          },
          "metadata": {
            "needs_background": "light"
          }
        }
      ]
    },
    {
      "cell_type": "markdown",
      "source": [
        "Show on plot the accuracy during training"
      ],
      "metadata": {
        "id": "7MqTQ5B57GwX"
      }
    },
    {
      "cell_type": "code",
      "source": [
        "import matplotlib.pyplot as plt\n",
        "# WRITE YOUR CODE HERE\n",
        "\n",
        "epoch_list=np.arange(1,number_of_epochs+1)\n",
        "plt.xlabel('Epoch Number')\n",
        "plt.ylabel(\"Accuracy\")\n",
        "plt.plot(epoch_list, acc_for_epoch_train_multi,label=\"train\")\n",
        "plt.plot(epoch_list, acc_for_epoch_valid_multi,label=\"valid\")\n",
        "plt.legend()"
      ],
      "metadata": {
        "id": "1ruXYVOuSb7p",
        "colab": {
          "base_uri": "https://localhost:8080/",
          "height": 296
        },
        "outputId": "48ee1700-c120-4098-99d2-2e74a3843f4b"
      },
      "execution_count": null,
      "outputs": [
        {
          "output_type": "execute_result",
          "data": {
            "text/plain": [
              "<matplotlib.legend.Legend at 0x7f71a8c4bd90>"
            ]
          },
          "metadata": {},
          "execution_count": 219
        },
        {
          "output_type": "display_data",
          "data": {
            "text/plain": [
              "<Figure size 432x288 with 1 Axes>"
            ],
            "image/png": "[encoded data removed]"
          },
          "metadata": {
            "needs_background": "light"
          }
        }
      ]
    },
    {
      "cell_type": "markdown",
      "source": [
        "Test the model"
      ],
      "metadata": {
        "id": "pVBwTiEw-RgX"
      }
    },
    {
      "cell_type": "code",
      "source": [
        "from sklearn.metrics import accuracy_score\n",
        "y_pred2 = model_multi.predict(X_test).cpu()\n",
        "# WRITE YOUR CODE HERE\n",
        "acc_test = accuracy_score(y_test,y_pred2)\n",
        "print('Test Acc ', acc_test*100,'%')"
      ],
      "metadata": {
        "id": "EI05b4KAS52j",
        "colab": {
          "base_uri": "https://localhost:8080/"
        },
        "outputId": "c7b18cec-d91c-4c23-e276-4e48294d31ee"
      },
      "execution_count": null,
      "outputs": [
        {
          "output_type": "stream",
          "name": "stdout",
          "text": [
            "tensor([9, 4, 1,  ..., 8, 1, 5])\n",
            "Test Acc  81.47999999999999 %\n"
          ]
        }
      ]
    },
    {
      "cell_type": "code",
      "source": [
        "from sklearn.metrics import classification_report\n",
        "target_names = ['T-shirt/top', 'Trouser', 'Pullover', 'Dress', 'Coat', 'Sandal', 'Shirt', 'Sneacker', 'Beg', 'Ankel Boot']\n",
        "print(classification_report(y_test, y_pred2, target_names=target_names))"
      ],
      "metadata": {
        "id": "03QGfBKTakhp",
        "colab": {
          "base_uri": "https://localhost:8080/"
        },
        "outputId": "d1990bc9-10d1-4b10-c5e9-b0173ce89495"
      },
      "execution_count": null,
      "outputs": [
        {
          "output_type": "stream",
          "name": "stdout",
          "text": [
            "              precision    recall  f1-score   support\n",
            "\n",
            " T-shirt/top       0.74      0.85      0.79      1000\n",
            "     Trouser       0.97      0.95      0.96      1000\n",
            "    Pullover       0.63      0.49      0.55      1000\n",
            "       Dress       0.86      0.84      0.85      1000\n",
            "        Coat       0.59      0.77      0.67      1000\n",
            "      Sandal       0.96      0.94      0.95      1000\n",
            "       Shirt       0.60      0.46      0.52      1000\n",
            "    Sneacker       0.91      0.94      0.93      1000\n",
            "         Beg       0.95      0.95      0.95      1000\n",
            "  Ankel Boot       0.95      0.94      0.94      1000\n",
            "\n",
            "    accuracy                           0.81     10000\n",
            "   macro avg       0.81      0.81      0.81     10000\n",
            "weighted avg       0.81      0.81      0.81     10000\n",
            "\n"
          ]
        }
      ]
    },
    {
      "cell_type": "markdown",
      "source": [
        "### Experiment number 1"
      ],
      "metadata": {
        "id": "8MYlvZ7ZSyj0"
      }
    },
    {
      "cell_type": "markdown",
      "source": [
        "Define the fully connected neural network"
      ],
      "metadata": {
        "id": "rO4CNPno924d"
      }
    },
    {
      "cell_type": "code",
      "source": [
        "class NeuralNetworkEx1(nn.Module):\n",
        "  def __init__(self):\n",
        "    super().__init__()\n",
        "    self.fc1=nn.Linear(784,128)\n",
        "    self.de=nn.Dropout(0.5)\n",
        "    self.fc2=nn.Linear(128,32)\n",
        "    self.de=nn.Dropout(0.5)\n",
        "    self.fc3=nn.Linear(32,10)\n",
        "\n",
        "\n",
        "  def forward(self, x):\n",
        "    out=F.relu(self.fc1(x))\n",
        "    out=self.de(out)\n",
        "    out=F.relu(self.fc2(out))\n",
        "    out=self.de(out)\n",
        "    out=self.fc3(out)\n",
        "    return out\n",
        "\n",
        "  def predict(self,X_test):\n",
        "    data = X_test.to(device)\n",
        "    outputs = self(data)           \n",
        "    _,predicted = torch.max(outputs.data,1)\n",
        "    print(predicted)      \n",
        "            \n",
        "    return predicted"
      ],
      "metadata": {
        "id": "pberKtB7aRGp"
      },
      "execution_count": null,
      "outputs": []
    },
    {
      "cell_type": "code",
      "source": [
        "model_multi_Ex1= NeuralNetworkEx1().to(device)"
      ],
      "metadata": {
        "id": "OTncgsQbbvE8"
      },
      "execution_count": null,
      "outputs": []
    },
    {
      "cell_type": "markdown",
      "source": [
        "Create the model and set the optimizer"
      ],
      "metadata": {
        "id": "gEUMyW349px5"
      }
    },
    {
      "cell_type": "code",
      "source": [
        "criterion_Ex1=nn.CrossEntropyLoss()\n",
        "optimizer_Ex1 = optim.SGD(model_multi_Ex1.parameters(), lr=0.005)"
      ],
      "metadata": {
        "id": "TLHTVjuPb8yF"
      },
      "execution_count": null,
      "outputs": []
    },
    {
      "cell_type": "code",
      "source": [
        "number_of_epochs = 50\n",
        "acc_for_epoch_train_multi_Ex1=[]\n",
        "loss_for_epoch_train_multi_Ex1=[]\n",
        "acc_for_epoch_valid_multi_Ex1=[]\n",
        "loss_for_epoch_valid_multi_Ex1=[]\n",
        "for epoch in range(number_of_epochs): \n",
        "  running_loss_train_multi_Ex1=0.0\n",
        "  running_loss_valid_multi_Ex1=0.0\n",
        "  total_predictions_train_Ex1 = 0\n",
        "  correct_predictions_train_Ex1 = 0 \n",
        "  total_predictions_valid_Ex1 = 0.0\n",
        "  correct_predictions_valid_Ex1 = 0.0\n",
        "  model_multi_Ex1.train()\n",
        "  for idx,(data,targets) in enumerate(train_loader_multi):\n",
        "    data = data.to(device=device)\n",
        "    targets = targets.to(device=device) \n",
        "    scores=model_multi_Ex1(data)\n",
        "    targets=targets.reshape(len(targets)).type(torch.LongTensor).to(device)\n",
        "    loss_train_multi_Ex1=criterion_Ex1(scores,targets)\n",
        "    running_loss_train_multi_Ex1 += loss_train_multi_Ex1.item()\n",
        "    _, predicted = torch.max(scores.data, 1)\n",
        "    total_predictions_train_Ex1 += targets.size(0)\n",
        "    correct_predictions_train_Ex1 += (predicted == targets).sum().item()\n",
        "    optimizer_Ex1.zero_grad()\n",
        "    loss_train_multi_Ex1.backward()\n",
        "    optimizer_Ex1.step() \n",
        "  acc_train_Ex1 = (correct_predictions_train_Ex1/total_predictions_train_Ex1)* 100.0\n",
        "  running_loss_train_multi_Ex1/=len(train_loader_multi)\n",
        "  model_multi_Ex1.eval()\n",
        "  for idx,(data,targets) in enumerate(valid_loader_multi):\n",
        "    data = data.to(device=device)\n",
        "    targets = targets.to(device=device)   \n",
        "    scores=model_multi_Ex1(data)\n",
        "    targets=targets.reshape(len(targets)).type(torch.LongTensor).to(device)\n",
        "    loss_valid_multi_Ex1=criterion_Ex1(scores,targets)\n",
        "    running_loss_valid_multi_Ex1 += loss_valid_multi_Ex1.item()\n",
        "    _, predicted = torch.max(scores.data, 1)\n",
        "    total_predictions_valid_Ex1 += targets.size(0)\n",
        "    correct_predictions_valid_Ex1 += (predicted == targets).sum().item()\n",
        "  acc_valid_Ex1 = (correct_predictions_valid_Ex1/total_predictions_valid_Ex1)* 100.0\n",
        "  running_loss_valid_multi_Ex1/=len(valid_loader_multi) \n",
        "  acc_for_epoch_train_multi_Ex1.append(acc_train_Ex1)\n",
        "  loss_for_epoch_train_multi_Ex1.append(running_loss_train_multi_Ex1)\n",
        "  acc_for_epoch_valid_multi_Ex1.append(acc_valid_Ex1)\n",
        "  loss_for_epoch_valid_multi_Ex1.append(running_loss_valid_multi_Ex1)\n",
        "  \n",
        "  print(f\" train epoch num {epoch} loss: {running_loss_train_multi_Ex1:.6f} acc {acc_train_Ex1:.2f}%\")\n",
        "  print(f\" valid epoch num {epoch} loss: {running_loss_valid_multi_Ex1:.6f} acc {acc_valid_Ex1:.2f}%\")\n",
        "  # WRITE YOUR CODE HERE\n",
        "print(f\"Best Validation Accuracy {np.max(acc_for_epoch_valid_multi_Ex1)}\")"
      ],
      "metadata": {
        "id": "xXhYWRBqMgTl",
        "colab": {
          "base_uri": "https://localhost:8080/"
        },
        "outputId": "38b28e83-c67b-4b8a-e07d-24dcc75d1f9c"
      },
      "execution_count": null,
      "outputs": [
        {
          "output_type": "stream",
          "name": "stdout",
          "text": [
            " train epoch num 0 loss: 2.457260 acc 9.89%\n",
            " valid epoch num 0 loss: 2.306442 acc 10.49%\n",
            " train epoch num 1 loss: 2.307426 acc 9.88%\n",
            " valid epoch num 1 loss: 2.304940 acc 10.49%\n",
            " train epoch num 2 loss: 2.305281 acc 9.90%\n",
            " valid epoch num 2 loss: 2.304015 acc 9.90%\n",
            " train epoch num 3 loss: 2.304513 acc 10.02%\n",
            " valid epoch num 3 loss: 2.303463 acc 9.90%\n",
            " train epoch num 4 loss: 2.304186 acc 10.03%\n",
            " valid epoch num 4 loss: 2.303132 acc 9.90%\n",
            " train epoch num 5 loss: 2.303249 acc 10.03%\n",
            " valid epoch num 5 loss: 2.302943 acc 9.90%\n",
            " train epoch num 6 loss: 2.302932 acc 10.04%\n",
            " valid epoch num 6 loss: 2.302838 acc 9.90%\n",
            " train epoch num 7 loss: 2.302903 acc 10.04%\n",
            " valid epoch num 7 loss: 2.302778 acc 9.90%\n",
            " train epoch num 8 loss: 2.302402 acc 9.96%\n",
            " valid epoch num 8 loss: 2.302746 acc 9.90%\n",
            " train epoch num 9 loss: 2.302015 acc 10.07%\n",
            " valid epoch num 9 loss: 2.302733 acc 9.90%\n",
            " train epoch num 10 loss: 2.185820 acc 15.61%\n",
            " valid epoch num 10 loss: 2.032129 acc 23.33%\n",
            " train epoch num 11 loss: 1.887010 acc 28.38%\n",
            " valid epoch num 11 loss: 1.178636 acc 46.68%\n",
            " train epoch num 12 loss: 1.310174 acc 48.93%\n",
            " valid epoch num 12 loss: 0.801352 acc 65.64%\n",
            " train epoch num 13 loss: 1.119210 acc 56.87%\n",
            " valid epoch num 13 loss: 0.748014 acc 69.11%\n",
            " train epoch num 14 loss: 1.036749 acc 61.21%\n",
            " valid epoch num 14 loss: 0.665981 acc 72.47%\n",
            " train epoch num 15 loss: 0.985449 acc 63.09%\n",
            " valid epoch num 15 loss: 0.643831 acc 73.00%\n",
            " train epoch num 16 loss: 0.950213 acc 64.27%\n",
            " valid epoch num 16 loss: 0.637155 acc 73.16%\n",
            " train epoch num 17 loss: 0.928382 acc 64.90%\n",
            " valid epoch num 17 loss: 0.620807 acc 74.72%\n",
            " train epoch num 18 loss: 0.913872 acc 65.54%\n",
            " valid epoch num 18 loss: 0.609034 acc 76.02%\n",
            " train epoch num 19 loss: 0.890926 acc 66.41%\n",
            " valid epoch num 19 loss: 0.601904 acc 77.58%\n",
            " train epoch num 20 loss: 0.864639 acc 67.10%\n",
            " valid epoch num 20 loss: 0.603709 acc 77.46%\n",
            " train epoch num 21 loss: 0.830872 acc 68.08%\n",
            " valid epoch num 21 loss: 0.628666 acc 69.53%\n",
            " train epoch num 22 loss: 0.822418 acc 68.39%\n",
            " valid epoch num 22 loss: 0.578588 acc 75.80%\n",
            " train epoch num 23 loss: 0.802626 acc 68.92%\n",
            " valid epoch num 23 loss: 0.602089 acc 75.69%\n",
            " train epoch num 24 loss: 0.791979 acc 69.83%\n",
            " valid epoch num 24 loss: 0.586056 acc 78.97%\n",
            " train epoch num 25 loss: 0.781867 acc 69.80%\n",
            " valid epoch num 25 loss: 0.577513 acc 80.42%\n",
            " train epoch num 26 loss: 0.775490 acc 70.58%\n",
            " valid epoch num 26 loss: 0.561276 acc 80.02%\n",
            " train epoch num 27 loss: 0.766365 acc 70.97%\n",
            " valid epoch num 27 loss: 0.552238 acc 80.31%\n",
            " train epoch num 28 loss: 0.756183 acc 71.37%\n",
            " valid epoch num 28 loss: 0.542938 acc 80.99%\n",
            " train epoch num 29 loss: 0.749757 acc 71.79%\n",
            " valid epoch num 29 loss: 0.559475 acc 80.36%\n",
            " train epoch num 30 loss: 0.740509 acc 72.47%\n",
            " valid epoch num 30 loss: 0.538004 acc 79.51%\n",
            " train epoch num 31 loss: 0.734700 acc 72.48%\n",
            " valid epoch num 31 loss: 0.534448 acc 82.27%\n",
            " train epoch num 32 loss: 0.722690 acc 73.13%\n",
            " valid epoch num 32 loss: 0.548820 acc 81.23%\n",
            " train epoch num 33 loss: 0.725396 acc 73.20%\n",
            " valid epoch num 33 loss: 0.517880 acc 82.75%\n",
            " train epoch num 34 loss: 0.710112 acc 73.86%\n",
            " valid epoch num 34 loss: 0.540202 acc 82.22%\n",
            " train epoch num 35 loss: 0.712241 acc 73.97%\n",
            " valid epoch num 35 loss: 0.515727 acc 83.21%\n",
            " train epoch num 36 loss: 0.703653 acc 74.45%\n",
            " valid epoch num 36 loss: 0.548429 acc 81.56%\n",
            " train epoch num 37 loss: 0.696847 acc 74.90%\n",
            " valid epoch num 37 loss: 0.498380 acc 82.93%\n",
            " train epoch num 38 loss: 0.688277 acc 75.15%\n",
            " valid epoch num 38 loss: 0.509550 acc 82.09%\n",
            " train epoch num 39 loss: 0.678077 acc 75.33%\n",
            " valid epoch num 39 loss: 0.504721 acc 83.06%\n",
            " train epoch num 40 loss: 0.677834 acc 75.23%\n",
            " valid epoch num 40 loss: 0.500897 acc 82.86%\n",
            " train epoch num 41 loss: 0.673138 acc 75.42%\n",
            " valid epoch num 41 loss: 0.486546 acc 84.04%\n",
            " train epoch num 42 loss: 0.676608 acc 75.81%\n",
            " valid epoch num 42 loss: 0.492999 acc 84.13%\n",
            " train epoch num 43 loss: 0.674351 acc 75.59%\n",
            " valid epoch num 43 loss: 0.499114 acc 83.66%\n",
            " train epoch num 44 loss: 0.663884 acc 75.91%\n",
            " valid epoch num 44 loss: 0.480329 acc 84.02%\n",
            " train epoch num 45 loss: 0.665621 acc 75.94%\n",
            " valid epoch num 45 loss: 0.500342 acc 84.29%\n",
            " train epoch num 46 loss: 0.661091 acc 75.84%\n",
            " valid epoch num 46 loss: 0.486971 acc 83.28%\n",
            " train epoch num 47 loss: 0.655382 acc 76.10%\n",
            " valid epoch num 47 loss: 0.490003 acc 83.89%\n",
            " train epoch num 48 loss: 0.658010 acc 76.08%\n",
            " valid epoch num 48 loss: 0.474779 acc 84.14%\n",
            " train epoch num 49 loss: 0.654458 acc 76.22%\n",
            " valid epoch num 49 loss: 0.484015 acc 84.18%\n",
            "Best Validation Accuracy 84.29166666666667\n"
          ]
        }
      ]
    },
    {
      "cell_type": "markdown",
      "source": [
        "Show on plot the loss during training"
      ],
      "metadata": {
        "id": "0xHjdgOb7Nzc"
      }
    },
    {
      "cell_type": "code",
      "source": [
        "import matplotlib.pyplot as plt\n",
        "# WRITE YOUR CODE HERE\n",
        "epoch_list=np.arange(1,number_of_epochs+1)\n",
        "plt.xlabel('Epoch Number')\n",
        "plt.ylabel(\"Loss\")\n",
        "plt.plot(epoch_list, loss_for_epoch_train_multi_Ex1,label=\"train\")\n",
        "plt.plot(epoch_list, loss_for_epoch_valid_multi_Ex1,label=\"valid\")\n",
        "plt.legend()"
      ],
      "metadata": {
        "id": "MQtSSG17c3rE",
        "colab": {
          "base_uri": "https://localhost:8080/",
          "height": 296
        },
        "outputId": "14a2ce48-b78a-4d26-b5cc-99ed2f8b7b7b"
      },
      "execution_count": null,
      "outputs": [
        {
          "output_type": "execute_result",
          "data": {
            "text/plain": [
              "<matplotlib.legend.Legend at 0x7f71a8c4be20>"
            ]
          },
          "metadata": {},
          "execution_count": 226
        },
        {
          "output_type": "display_data",
          "data": {
            "text/plain": [
              "<Figure size 432x288 with 1 Axes>"
            ],
            "image/png": "[encoded data removed]"
          },
          "metadata": {
            "needs_background": "light"
          }
        }
      ]
    },
    {
      "cell_type": "markdown",
      "source": [
        "Show on plot the accuracy during training"
      ],
      "metadata": {
        "id": "zI6d_LTA7L14"
      }
    },
    {
      "cell_type": "code",
      "source": [
        "import matplotlib.pyplot as plt\n",
        "# WRITE YOUR CODE HERE\n",
        "epoch_list=np.arange(1,number_of_epochs+1)\n",
        "plt.xlabel('Epoch Number')\n",
        "plt.ylabel(\"Accuracy\")\n",
        "plt.plot(epoch_list, acc_for_epoch_train_multi_Ex1,label=\"train\")\n",
        "plt.plot(epoch_list, acc_for_epoch_valid_multi_Ex1,label=\"valid\")\n",
        "plt.legend()"
      ],
      "metadata": {
        "id": "NCnkHt2Wc8Fp",
        "colab": {
          "base_uri": "https://localhost:8080/",
          "height": 296
        },
        "outputId": "a60231df-e988-45fb-cae7-eb51e6ecbadd"
      },
      "execution_count": null,
      "outputs": [
        {
          "output_type": "execute_result",
          "data": {
            "text/plain": [
              "<matplotlib.legend.Legend at 0x7f71a8bcffa0>"
            ]
          },
          "metadata": {},
          "execution_count": 227
        },
        {
          "output_type": "display_data",
          "data": {
            "text/plain": [
              "<Figure size 432x288 with 1 Axes>"
            ],
            "image/png": "[encoded data removed]"
          },
          "metadata": {
            "needs_background": "light"
          }
        }
      ]
    },
    {
      "cell_type": "markdown",
      "source": [
        "Test the model"
      ],
      "metadata": {
        "id": "iXucC_DK7SB8"
      }
    },
    {
      "cell_type": "code",
      "source": [
        "y_pred2 = model_multi_Ex1.predict(X_test).cpu()\n",
        "# WRITE YOUR CODE HERE\n",
        "acc_test_ex1 = accuracy_score(y_test,y_pred2)\n",
        "print('Test Acc ', acc_test_ex1*100,'%')"
      ],
      "metadata": {
        "id": "ZwLc5uRwdBBJ",
        "colab": {
          "base_uri": "https://localhost:8080/"
        },
        "outputId": "efde8625-2200-4154-de19-d0fd8d5a7312"
      },
      "execution_count": null,
      "outputs": [
        {
          "output_type": "stream",
          "name": "stdout",
          "text": [
            "tensor([9, 2, 1,  ..., 8, 1, 5])\n",
            "Test Acc  84.11 %\n"
          ]
        }
      ]
    },
    {
      "cell_type": "code",
      "source": [
        "target_names = ['T-shirt/top', 'Trouser', 'Pullover', 'Dress', 'Coat', 'Sandal', 'Shirt', 'Sneacker', 'Beg', 'Ankel Boot']\n",
        "print(classification_report(y_test, y_pred2, target_names=target_names))"
      ],
      "metadata": {
        "id": "HkshJMjpdD-v",
        "colab": {
          "base_uri": "https://localhost:8080/"
        },
        "outputId": "0ebf012b-d373-4ed3-9129-2816561c0f9d"
      },
      "execution_count": null,
      "outputs": [
        {
          "output_type": "stream",
          "name": "stdout",
          "text": [
            "              precision    recall  f1-score   support\n",
            "\n",
            " T-shirt/top       0.77      0.81      0.79      1000\n",
            "     Trouser       0.99      0.96      0.97      1000\n",
            "    Pullover       0.64      0.84      0.72      1000\n",
            "       Dress       0.79      0.90      0.84      1000\n",
            "        Coat       0.78      0.69      0.73      1000\n",
            "      Sandal       0.97      0.94      0.96      1000\n",
            "       Shirt       0.70      0.43      0.53      1000\n",
            "    Sneacker       0.94      0.91      0.92      1000\n",
            "         Beg       0.95      0.96      0.96      1000\n",
            "  Ankel Boot       0.90      0.98      0.94      1000\n",
            "\n",
            "    accuracy                           0.84     10000\n",
            "   macro avg       0.84      0.84      0.84     10000\n",
            "weighted avg       0.84      0.84      0.84     10000\n",
            "\n"
          ]
        }
      ]
    },
    {
      "cell_type": "markdown",
      "source": [
        "### Experiment number 2"
      ],
      "metadata": {
        "id": "SK-L3P-XlDSQ"
      }
    },
    {
      "cell_type": "markdown",
      "source": [
        " Create the model and set the optimizer"
      ],
      "metadata": {
        "id": "n5rZ0sjW9_pM"
      }
    },
    {
      "cell_type": "code",
      "source": [
        "model_multi_Ex2= NeuralNetworkEx1().to(device)"
      ],
      "metadata": {
        "id": "dXfV6YwhaReO"
      },
      "execution_count": null,
      "outputs": []
    },
    {
      "cell_type": "code",
      "source": [
        "optimizer_Ex2 = optim.Adam(model_multi_Ex2.parameters(), lr=0.00005)"
      ],
      "metadata": {
        "id": "9zA9I10zdl96"
      },
      "execution_count": null,
      "outputs": []
    },
    {
      "cell_type": "markdown",
      "source": [
        "Train the model"
      ],
      "metadata": {
        "id": "ru0W9-_8-Djk"
      }
    },
    {
      "cell_type": "code",
      "source": [
        "number_of_epochs = 100\n",
        "acc_for_epoch_train_multi_Ex2=[]\n",
        "loss_for_epoch_train_multi_Ex2=[]\n",
        "acc_for_epoch_valid_multi_Ex2=[]\n",
        "loss_for_epoch_valid_multi_Ex2=[]\n",
        "for epoch in range(number_of_epochs): \n",
        "  running_loss_train_multi_Ex2=0.0\n",
        "  running_loss_valid_multi_Ex2=0.0\n",
        "  total_predictions_train_Ex2 = 0\n",
        "  correct_predictions_train_Ex2 = 0 \n",
        "  total_predictions_valid_Ex2 = 0.0\n",
        "  correct_predictions_valid_Ex2 = 0.0\n",
        "  model_multi_Ex2.train()\n",
        "  for idx,(data,targets) in enumerate(train_loader_multi):\n",
        "    data = data.to(device=device)\n",
        "    targets = targets.to(device=device) \n",
        "    scores=model_multi_Ex2(data)\n",
        "    targets=targets.reshape(len(targets)).type(torch.LongTensor).to(device)\n",
        "    loss_train_multi_Ex2=criterion_Ex1(scores,targets)\n",
        "    running_loss_train_multi_Ex2 += loss_train_multi_Ex2.item()\n",
        "    _, predicted = torch.max(scores.data, 1)\n",
        "    total_predictions_train_Ex2 += targets.size(0)\n",
        "    correct_predictions_train_Ex2 += (predicted == targets).sum().item()\n",
        "    optimizer_Ex2.zero_grad()\n",
        "    loss_train_multi_Ex2.backward()\n",
        "    optimizer_Ex2.step() \n",
        "  acc_train_Ex2 = (correct_predictions_train_Ex2/total_predictions_train_Ex2)* 100.0\n",
        "  running_loss_train_multi_Ex2/=len(train_loader_multi)\n",
        "  model_multi_Ex2.eval()\n",
        "  for idx,(data,targets) in enumerate(valid_loader_multi):\n",
        "    data = data.to(device=device)\n",
        "    targets = targets.to(device=device)   \n",
        "    scores=model_multi_Ex2(data)\n",
        "    targets=targets.reshape(len(targets)).type(torch.LongTensor).to(device)\n",
        "    loss_valid_multi_Ex2=criterion_Ex1(scores,targets)\n",
        "    running_loss_valid_multi_Ex2 += loss_valid_multi_Ex2.item()\n",
        "    _, predicted = torch.max(scores.data, 1)\n",
        "    total_predictions_valid_Ex2 += targets.size(0)\n",
        "    correct_predictions_valid_Ex2 += (predicted == targets).sum().item()\n",
        "  acc_valid_Ex2 = (correct_predictions_valid_Ex2/total_predictions_valid_Ex2)* 100.0\n",
        "  running_loss_valid_multi_Ex2/=len(valid_loader_multi) \n",
        "  acc_for_epoch_train_multi_Ex2.append(acc_train_Ex2)\n",
        "  loss_for_epoch_train_multi_Ex2.append(running_loss_train_multi_Ex2)\n",
        "  acc_for_epoch_valid_multi_Ex2.append(acc_valid_Ex2)\n",
        "  loss_for_epoch_valid_multi_Ex2.append(running_loss_valid_multi_Ex2)\n",
        "  \n",
        "  print(f\" train epoch num {epoch} loss: {running_loss_train_multi_Ex2:.6f} acc {acc_train_Ex2:.2f}%\")\n",
        "  print(f\" valid epoch num {epoch} loss: {running_loss_valid_multi_Ex2:.6f} acc {acc_valid_Ex2:.2f}%\")\n",
        "  # WRITE YOUR CODE HERE\n",
        "print(f\"Best validation accuracy {np.max(acc_for_epoch_valid_multi_Ex2)}\")"
      ],
      "metadata": {
        "id": "MBWEcGsbRtvS",
        "colab": {
          "base_uri": "https://localhost:8080/"
        },
        "outputId": "f7fdbbf9-218f-4fa1-956b-157ebefaa25f"
      },
      "execution_count": null,
      "outputs": [
        {
          "output_type": "stream",
          "name": "stdout",
          "text": [
            " train epoch num 0 loss: 3.940906 acc 24.09%\n",
            " valid epoch num 0 loss: 1.403129 acc 55.78%\n",
            " train epoch num 1 loss: 1.842820 acc 37.77%\n",
            " valid epoch num 1 loss: 1.153761 acc 68.31%\n",
            " train epoch num 2 loss: 1.573948 acc 47.35%\n",
            " valid epoch num 2 loss: 0.979114 acc 70.43%\n",
            " train epoch num 3 loss: 1.405332 acc 53.16%\n",
            " valid epoch num 3 loss: 0.898270 acc 72.72%\n",
            " train epoch num 4 loss: 1.294686 acc 56.77%\n",
            " valid epoch num 4 loss: 0.838362 acc 74.34%\n",
            " train epoch num 5 loss: 1.187533 acc 59.99%\n",
            " valid epoch num 5 loss: 0.755293 acc 75.62%\n",
            " train epoch num 6 loss: 1.115623 acc 62.09%\n",
            " valid epoch num 6 loss: 0.717801 acc 76.66%\n",
            " train epoch num 7 loss: 1.055809 acc 63.64%\n",
            " valid epoch num 7 loss: 0.679267 acc 77.03%\n",
            " train epoch num 8 loss: 1.007570 acc 64.86%\n",
            " valid epoch num 8 loss: 0.653921 acc 78.65%\n",
            " train epoch num 9 loss: 0.971873 acc 65.70%\n",
            " valid epoch num 9 loss: 0.629349 acc 79.28%\n",
            " train epoch num 10 loss: 0.920605 acc 67.12%\n",
            " valid epoch num 10 loss: 0.589666 acc 80.27%\n",
            " train epoch num 11 loss: 0.883292 acc 68.44%\n",
            " valid epoch num 11 loss: 0.577792 acc 80.45%\n",
            " train epoch num 12 loss: 0.864038 acc 69.14%\n",
            " valid epoch num 12 loss: 0.562925 acc 81.35%\n",
            " train epoch num 13 loss: 0.830907 acc 70.20%\n",
            " valid epoch num 13 loss: 0.546876 acc 81.92%\n",
            " train epoch num 14 loss: 0.794690 acc 71.51%\n",
            " valid epoch num 14 loss: 0.531909 acc 82.10%\n",
            " train epoch num 15 loss: 0.777453 acc 72.25%\n",
            " valid epoch num 15 loss: 0.523004 acc 82.68%\n",
            " train epoch num 16 loss: 0.759151 acc 72.72%\n",
            " valid epoch num 16 loss: 0.509808 acc 82.82%\n",
            " train epoch num 17 loss: 0.734467 acc 73.73%\n",
            " valid epoch num 17 loss: 0.499329 acc 83.04%\n",
            " train epoch num 18 loss: 0.719647 acc 74.81%\n",
            " valid epoch num 18 loss: 0.493259 acc 83.22%\n",
            " train epoch num 19 loss: 0.711587 acc 74.97%\n",
            " valid epoch num 19 loss: 0.480236 acc 83.57%\n",
            " train epoch num 20 loss: 0.689325 acc 75.48%\n",
            " valid epoch num 20 loss: 0.478918 acc 83.98%\n",
            " train epoch num 21 loss: 0.688397 acc 75.48%\n",
            " valid epoch num 21 loss: 0.480640 acc 83.89%\n",
            " train epoch num 22 loss: 0.677552 acc 75.74%\n",
            " valid epoch num 22 loss: 0.466240 acc 84.46%\n",
            " train epoch num 23 loss: 0.664297 acc 76.38%\n",
            " valid epoch num 23 loss: 0.463713 acc 84.72%\n",
            " train epoch num 24 loss: 0.659915 acc 76.45%\n",
            " valid epoch num 24 loss: 0.466222 acc 84.07%\n",
            " train epoch num 25 loss: 0.643792 acc 76.98%\n",
            " valid epoch num 25 loss: 0.461793 acc 84.58%\n",
            " train epoch num 26 loss: 0.640727 acc 77.07%\n",
            " valid epoch num 26 loss: 0.462694 acc 84.40%\n",
            " train epoch num 27 loss: 0.632005 acc 77.42%\n",
            " valid epoch num 27 loss: 0.454597 acc 84.86%\n",
            " train epoch num 28 loss: 0.623859 acc 77.49%\n",
            " valid epoch num 28 loss: 0.449143 acc 85.41%\n",
            " train epoch num 29 loss: 0.616874 acc 77.99%\n",
            " valid epoch num 29 loss: 0.449106 acc 84.88%\n",
            " train epoch num 30 loss: 0.614935 acc 78.29%\n",
            " valid epoch num 30 loss: 0.443646 acc 85.36%\n",
            " train epoch num 31 loss: 0.608273 acc 78.57%\n",
            " valid epoch num 31 loss: 0.439577 acc 85.06%\n",
            " train epoch num 32 loss: 0.595454 acc 79.01%\n",
            " valid epoch num 32 loss: 0.445926 acc 85.11%\n",
            " train epoch num 33 loss: 0.591084 acc 78.91%\n",
            " valid epoch num 33 loss: 0.440166 acc 85.41%\n",
            " train epoch num 34 loss: 0.585517 acc 78.95%\n",
            " valid epoch num 34 loss: 0.434556 acc 85.59%\n",
            " train epoch num 35 loss: 0.583276 acc 79.14%\n",
            " valid epoch num 35 loss: 0.433072 acc 85.56%\n",
            " train epoch num 36 loss: 0.576731 acc 79.51%\n",
            " valid epoch num 36 loss: 0.436025 acc 85.67%\n",
            " train epoch num 37 loss: 0.573223 acc 79.68%\n",
            " valid epoch num 37 loss: 0.431364 acc 85.71%\n",
            " train epoch num 38 loss: 0.567328 acc 79.94%\n",
            " valid epoch num 38 loss: 0.431187 acc 85.60%\n",
            " train epoch num 39 loss: 0.565399 acc 79.99%\n",
            " valid epoch num 39 loss: 0.435550 acc 85.43%\n",
            " train epoch num 40 loss: 0.560865 acc 80.14%\n",
            " valid epoch num 40 loss: 0.429224 acc 85.86%\n",
            " train epoch num 41 loss: 0.552857 acc 80.29%\n",
            " valid epoch num 41 loss: 0.438855 acc 85.79%\n",
            " train epoch num 42 loss: 0.551715 acc 80.33%\n",
            " valid epoch num 42 loss: 0.426357 acc 85.88%\n",
            " train epoch num 43 loss: 0.550168 acc 80.35%\n",
            " valid epoch num 43 loss: 0.429513 acc 85.82%\n",
            " train epoch num 44 loss: 0.543532 acc 80.44%\n",
            " valid epoch num 44 loss: 0.421614 acc 86.14%\n",
            " train epoch num 45 loss: 0.541366 acc 80.70%\n",
            " valid epoch num 45 loss: 0.423497 acc 86.00%\n",
            " train epoch num 46 loss: 0.538152 acc 80.87%\n",
            " valid epoch num 46 loss: 0.419290 acc 85.92%\n",
            " train epoch num 47 loss: 0.534311 acc 80.97%\n",
            " valid epoch num 47 loss: 0.423113 acc 86.18%\n",
            " train epoch num 48 loss: 0.530976 acc 81.06%\n",
            " valid epoch num 48 loss: 0.421067 acc 86.31%\n",
            " train epoch num 49 loss: 0.530769 acc 81.03%\n",
            " valid epoch num 49 loss: 0.418861 acc 86.24%\n",
            " train epoch num 50 loss: 0.522328 acc 81.02%\n",
            " valid epoch num 50 loss: 0.411583 acc 86.08%\n",
            " train epoch num 51 loss: 0.520194 acc 81.60%\n",
            " valid epoch num 51 loss: 0.420138 acc 86.23%\n",
            " train epoch num 52 loss: 0.518996 acc 81.44%\n",
            " valid epoch num 52 loss: 0.415229 acc 86.26%\n",
            " train epoch num 53 loss: 0.519431 acc 81.58%\n",
            " valid epoch num 53 loss: 0.416992 acc 86.01%\n",
            " train epoch num 54 loss: 0.510548 acc 81.77%\n",
            " valid epoch num 54 loss: 0.415435 acc 86.28%\n",
            " train epoch num 55 loss: 0.504509 acc 82.02%\n",
            " valid epoch num 55 loss: 0.418055 acc 86.25%\n",
            " train epoch num 56 loss: 0.509457 acc 81.94%\n",
            " valid epoch num 56 loss: 0.420191 acc 86.09%\n",
            " train epoch num 57 loss: 0.505533 acc 82.07%\n",
            " valid epoch num 57 loss: 0.408401 acc 86.39%\n",
            " train epoch num 58 loss: 0.498261 acc 81.88%\n",
            " valid epoch num 58 loss: 0.409680 acc 86.33%\n",
            " train epoch num 59 loss: 0.499548 acc 82.29%\n",
            " valid epoch num 59 loss: 0.411401 acc 86.26%\n",
            " train epoch num 60 loss: 0.495522 acc 82.29%\n",
            " valid epoch num 60 loss: 0.409119 acc 86.34%\n",
            " train epoch num 61 loss: 0.491435 acc 82.35%\n",
            " valid epoch num 61 loss: 0.410834 acc 86.30%\n",
            " train epoch num 62 loss: 0.485941 acc 82.56%\n",
            " valid epoch num 62 loss: 0.409121 acc 86.56%\n",
            " train epoch num 63 loss: 0.486509 acc 82.47%\n",
            " valid epoch num 63 loss: 0.412578 acc 86.32%\n",
            " train epoch num 64 loss: 0.496573 acc 82.43%\n",
            " valid epoch num 64 loss: 0.400804 acc 86.54%\n",
            " train epoch num 65 loss: 0.482010 acc 82.75%\n",
            " valid epoch num 65 loss: 0.410217 acc 86.34%\n",
            " train epoch num 66 loss: 0.489039 acc 82.59%\n",
            " valid epoch num 66 loss: 0.401970 acc 86.46%\n",
            " train epoch num 67 loss: 0.487603 acc 82.67%\n",
            " valid epoch num 67 loss: 0.408636 acc 86.47%\n",
            " train epoch num 68 loss: 0.479375 acc 82.83%\n",
            " valid epoch num 68 loss: 0.405330 acc 86.38%\n",
            " train epoch num 69 loss: 0.481616 acc 82.87%\n",
            " valid epoch num 69 loss: 0.410800 acc 86.52%\n",
            " train epoch num 70 loss: 0.478640 acc 82.88%\n",
            " valid epoch num 70 loss: 0.402161 acc 86.64%\n",
            " train epoch num 71 loss: 0.477338 acc 82.98%\n",
            " valid epoch num 71 loss: 0.403376 acc 86.72%\n",
            " train epoch num 72 loss: 0.477159 acc 82.89%\n",
            " valid epoch num 72 loss: 0.405001 acc 86.46%\n",
            " train epoch num 73 loss: 0.470338 acc 83.42%\n",
            " valid epoch num 73 loss: 0.404120 acc 86.52%\n",
            " train epoch num 74 loss: 0.473052 acc 82.87%\n",
            " valid epoch num 74 loss: 0.403936 acc 86.81%\n",
            " train epoch num 75 loss: 0.471584 acc 83.22%\n",
            " valid epoch num 75 loss: 0.403679 acc 86.70%\n",
            " train epoch num 76 loss: 0.466747 acc 83.28%\n",
            " valid epoch num 76 loss: 0.405256 acc 86.67%\n",
            " train epoch num 77 loss: 0.464259 acc 83.43%\n",
            " valid epoch num 77 loss: 0.403091 acc 86.60%\n",
            " train epoch num 78 loss: 0.463078 acc 83.35%\n",
            " valid epoch num 78 loss: 0.401007 acc 86.67%\n",
            " train epoch num 79 loss: 0.467619 acc 83.27%\n",
            " valid epoch num 79 loss: 0.405575 acc 86.58%\n",
            " train epoch num 80 loss: 0.458930 acc 83.49%\n",
            " valid epoch num 80 loss: 0.401780 acc 86.81%\n",
            " train epoch num 81 loss: 0.458663 acc 83.54%\n",
            " valid epoch num 81 loss: 0.402520 acc 86.76%\n",
            " train epoch num 82 loss: 0.461662 acc 83.26%\n",
            " valid epoch num 82 loss: 0.410269 acc 86.68%\n",
            " train epoch num 83 loss: 0.457966 acc 83.61%\n",
            " valid epoch num 83 loss: 0.404967 acc 86.88%\n",
            " train epoch num 84 loss: 0.450031 acc 83.49%\n",
            " valid epoch num 84 loss: 0.410436 acc 86.61%\n",
            " train epoch num 85 loss: 0.456773 acc 83.68%\n",
            " valid epoch num 85 loss: 0.399067 acc 86.84%\n",
            " train epoch num 86 loss: 0.450238 acc 83.93%\n",
            " valid epoch num 86 loss: 0.398671 acc 86.90%\n",
            " train epoch num 87 loss: 0.456089 acc 83.61%\n",
            " valid epoch num 87 loss: 0.398004 acc 86.92%\n",
            " train epoch num 88 loss: 0.450681 acc 83.81%\n",
            " valid epoch num 88 loss: 0.405522 acc 86.97%\n",
            " train epoch num 89 loss: 0.448526 acc 83.81%\n",
            " valid epoch num 89 loss: 0.406126 acc 86.67%\n",
            " train epoch num 90 loss: 0.446239 acc 83.99%\n",
            " valid epoch num 90 loss: 0.410098 acc 86.72%\n",
            " train epoch num 91 loss: 0.444200 acc 83.94%\n",
            " valid epoch num 91 loss: 0.398094 acc 86.96%\n",
            " train epoch num 92 loss: 0.443508 acc 83.99%\n",
            " valid epoch num 92 loss: 0.403900 acc 86.83%\n",
            " train epoch num 93 loss: 0.445770 acc 84.01%\n",
            " valid epoch num 93 loss: 0.416256 acc 86.88%\n",
            " train epoch num 94 loss: 0.443297 acc 83.84%\n",
            " valid epoch num 94 loss: 0.403709 acc 86.86%\n",
            " train epoch num 95 loss: 0.445139 acc 83.86%\n",
            " valid epoch num 95 loss: 0.405411 acc 86.90%\n",
            " train epoch num 96 loss: 0.445585 acc 83.82%\n",
            " valid epoch num 96 loss: 0.405912 acc 86.66%\n",
            " train epoch num 97 loss: 0.441402 acc 84.14%\n",
            " valid epoch num 97 loss: 0.404507 acc 86.88%\n",
            " train epoch num 98 loss: 0.436256 acc 84.23%\n",
            " valid epoch num 98 loss: 0.406887 acc 86.79%\n",
            " train epoch num 99 loss: 0.442760 acc 83.97%\n",
            " valid epoch num 99 loss: 0.402153 acc 87.17%\n",
            "Best validation accuracy 87.16666666666667\n"
          ]
        }
      ]
    },
    {
      "cell_type": "markdown",
      "source": [
        "Show on plot the loss during training"
      ],
      "metadata": {
        "id": "gm4deqqP7ZBn"
      }
    },
    {
      "cell_type": "code",
      "source": [
        "import matplotlib.pyplot as plt\n",
        "# WRITE YOUR CODE HERE\n",
        "\n",
        "epoch_list=np.arange(1,number_of_epochs+1)\n",
        "plt.xlabel('Epoch Number')\n",
        "plt.ylabel(\"Loss\")\n",
        "plt.plot(epoch_list, loss_for_epoch_train_multi_Ex2,label=\"train\")\n",
        "plt.plot(epoch_list, loss_for_epoch_valid_multi_Ex2,label=\"valid\")\n",
        "plt.legend()"
      ],
      "metadata": {
        "id": "L_TCyMt2eC9y",
        "colab": {
          "base_uri": "https://localhost:8080/",
          "height": 296
        },
        "outputId": "3305e944-06b9-4f41-f9fa-801d1f1063aa"
      },
      "execution_count": null,
      "outputs": [
        {
          "output_type": "execute_result",
          "data": {
            "text/plain": [
              "<matplotlib.legend.Legend at 0x7f71a8ac1e50>"
            ]
          },
          "metadata": {},
          "execution_count": 233
        },
        {
          "output_type": "display_data",
          "data": {
            "text/plain": [
              "<Figure size 432x288 with 1 Axes>"
            ],
            "image/png": "[encoded data removed]"
          },
          "metadata": {
            "needs_background": "light"
          }
        }
      ]
    },
    {
      "cell_type": "markdown",
      "source": [
        "Show on plot the accuracy during training"
      ],
      "metadata": {
        "id": "PFY6aqxt7avw"
      }
    },
    {
      "cell_type": "code",
      "source": [
        "import matplotlib.pyplot as plt\n",
        "# WRITE YOUR CODE HERE\n",
        "\n",
        "epoch_list=np.arange(1,number_of_epochs+1)\n",
        "plt.xlabel('Epoch Number')\n",
        "plt.ylabel(\"Accuracy\")\n",
        "plt.plot(epoch_list, acc_for_epoch_train_multi_Ex2,label=\"train\")\n",
        "plt.plot(epoch_list, acc_for_epoch_valid_multi_Ex2,label=\"valid\")\n",
        "plt.legend()"
      ],
      "metadata": {
        "id": "SXFXCrQceGiD",
        "colab": {
          "base_uri": "https://localhost:8080/",
          "height": 299
        },
        "outputId": "5d352581-176c-4030-cf0b-03da1096c9c8"
      },
      "execution_count": null,
      "outputs": [
        {
          "output_type": "execute_result",
          "data": {
            "text/plain": [
              "<matplotlib.legend.Legend at 0x7f71a8a08e50>"
            ]
          },
          "metadata": {},
          "execution_count": 234
        },
        {
          "output_type": "display_data",
          "data": {
            "text/plain": [
              "<Figure size 432x288 with 1 Axes>"
            ],
            "image/png": "[encoded data removed]"
          },
          "metadata": {
            "needs_background": "light"
          }
        }
      ]
    },
    {
      "cell_type": "markdown",
      "source": [
        "Test the model"
      ],
      "metadata": {
        "id": "bjc9K0hG7cqh"
      }
    },
    {
      "cell_type": "code",
      "source": [
        "y_pred2_Ex2 = model_multi_Ex2.predict(X_test).cpu()\n",
        "# WRITE YOUR CODE HERE\n",
        "acc_test_Ex2 = accuracy_score(y_test,y_pred2_Ex2)\n",
        "print('Test Acc ', acc_test_Ex2*100,'%')"
      ],
      "metadata": {
        "id": "Dk0jIKv-eJWT",
        "colab": {
          "base_uri": "https://localhost:8080/"
        },
        "outputId": "00a43a4c-32d3-481a-c5c0-8185ad68f18b"
      },
      "execution_count": null,
      "outputs": [
        {
          "output_type": "stream",
          "name": "stdout",
          "text": [
            "tensor([9, 2, 1,  ..., 8, 1, 5])\n",
            "Test Acc  86.6 %\n"
          ]
        }
      ]
    },
    {
      "cell_type": "code",
      "source": [
        "target_names = ['T-shirt/top', 'Trouser', 'Pullover', 'Dress', 'Coat', 'Sandal', 'Shirt', 'Sneacker', 'Beg', 'Ankel Boot']\n",
        "print(classification_report(y_test, y_pred2, target_names=target_names))"
      ],
      "metadata": {
        "id": "vPExXIi6eJqV",
        "colab": {
          "base_uri": "https://localhost:8080/"
        },
        "outputId": "45ed6f00-f411-43ef-9798-86cc375f60ab"
      },
      "execution_count": null,
      "outputs": [
        {
          "output_type": "stream",
          "name": "stdout",
          "text": [
            "              precision    recall  f1-score   support\n",
            "\n",
            " T-shirt/top       0.77      0.81      0.79      1000\n",
            "     Trouser       0.99      0.96      0.97      1000\n",
            "    Pullover       0.64      0.84      0.72      1000\n",
            "       Dress       0.79      0.90      0.84      1000\n",
            "        Coat       0.78      0.69      0.73      1000\n",
            "      Sandal       0.97      0.94      0.96      1000\n",
            "       Shirt       0.70      0.43      0.53      1000\n",
            "    Sneacker       0.94      0.91      0.92      1000\n",
            "         Beg       0.95      0.96      0.96      1000\n",
            "  Ankel Boot       0.90      0.98      0.94      1000\n",
            "\n",
            "    accuracy                           0.84     10000\n",
            "   macro avg       0.84      0.84      0.84     10000\n",
            "weighted avg       0.84      0.84      0.84     10000\n",
            "\n"
          ]
        }
      ]
    },
    {
      "cell_type": "markdown",
      "source": [
        "## Test Environment (of part 2 only)\n",
        "This part is meant to show the tester how your model is performing. Keep in mind that the only cells he is going to run are the cells below.<br>\n",
        "(If there are libraries that need to be used please add their import. If there is a process that the data has to go through before it enters the model, don't forget to add it as well)."
      ],
      "metadata": {
        "id": "L0xlxiaj6xM4"
      }
    },
    {
      "cell_type": "markdown",
      "source": [
        "### Load trained model"
      ],
      "metadata": {
        "id": "-rMJ1ucy7lKB"
      }
    },
    {
      "cell_type": "code",
      "source": [
        "# SAVE THE TRAINED MODEL\n",
        "torch.save(model_multi_Ex2.state_dict(), 'model_multi_Ex2.pth')\n",
        "\n",
        "#LOAD THE WEIGHTS\n",
        "model_multi_Ex2.load_state_dict(torch.load('model_multi_Ex2.pth'))"
      ],
      "metadata": {
        "id": "I27yHolJ7naT",
        "colab": {
          "base_uri": "https://localhost:8080/"
        },
        "outputId": "43727f92-995a-44d2-fd5a-8b173a056a4e"
      },
      "execution_count": null,
      "outputs": [
        {
          "output_type": "execute_result",
          "data": {
            "text/plain": [
              "<All keys matched successfully>"
            ]
          },
          "metadata": {},
          "execution_count": 237
        }
      ]
    },
    {
      "cell_type": "markdown",
      "source": [
        "### Single prediction\n",
        "Let the tester examine your trained model on single predicttion test.<br>You will use the colab.file library to allow the tester to upload a single image of an item of clothing (28x28 image).<br>\n",
        "Then build a function that takes this image, loads the weights of the trained model (If you haven't loaded it before) and prints a prediction."
      ],
      "metadata": {
        "id": "5PSVr_J-_wmX"
      }
    },
    {
      "cell_type": "code",
      "source": [
        "from numpy import load as load_npy\n",
        "from google.colab import files\n",
        "files.upload()"
      ],
      "metadata": {
        "id": "WGSD04i68JW-",
        "colab": {
          "base_uri": "https://localhost:8080/",
          "height": 367
        },
        "outputId": "2bb447d9-85af-4fa5-a344-d76f177f7193"
      },
      "execution_count": null,
      "outputs": [
        {
          "output_type": "display_data",
          "data": {
            "text/plain": [
              "<IPython.core.display.HTML object>"
            ],
            "text/html": [
              "\n",
              "     <input type=\"file\" id=\"files-ed69b605-bd4a-4742-971f-abf770afd435\" name=\"files[]\" multiple disabled\n",
              "        style=\"border:none\" />\n",
              "     <output id=\"result-ed69b605-bd4a-4742-971f-abf770afd435\">\n",
              "      Upload widget is only available when the cell has been executed in the\n",
              "      current browser session. Please rerun this cell to enable.\n",
              "      </output>\n",
              "      <script>// Copyright 2017 Google LLC\n",
              "//\n",
              "// Licensed under the Apache License, Version 2.0 (the \"License\");\n",
              "// you may not use this file except in compliance with the License.\n",
              "// You may obtain a copy of the License at\n",
              "//\n",
              "//      http://www.apache.org/licenses/LICENSE-2.0\n",
              "//\n",
              "// Unless required by applicable law or agreed to in writing, software\n",
              "// distributed under the License is distributed on an \"AS IS\" BASIS,\n",
              "// WITHOUT WARRANTIES OR CONDITIONS OF ANY KIND, either express or implied.\n",
              "// See the License for the specific language governing permissions and\n",
              "// limitations under the License.\n",
              "\n",
              "/**\n",
              " * @fileoverview Helpers for google.colab Python module.\n",
              " */\n",
              "(function(scope) {\n",
              "function span(text, styleAttributes = {}) {\n",
              "  const element = document.createElement('span');\n",
              "  element.textContent = text;\n",
              "  for (const key of Object.keys(styleAttributes)) {\n",
              "    element.style[key] = styleAttributes[key];\n",
              "  }\n",
              "  return element;\n",
              "}\n",
              "\n",
              "// Max number of bytes which will be uploaded at a time.\n",
              "const MAX_PAYLOAD_SIZE = 100 * 1024;\n",
              "\n",
              "function _uploadFiles(inputId, outputId) {\n",
              "  const steps = uploadFilesStep(inputId, outputId);\n",
              "  const outputElement = document.getElementById(outputId);\n",
              "  // Cache steps on the outputElement to make it available for the next call\n",
              "  // to uploadFilesContinue from Python.\n",
              "  outputElement.steps = steps;\n",
              "\n",
              "  return _uploadFilesContinue(outputId);\n",
              "}\n",
              "\n",
              "// This is roughly an async generator (not supported in the browser yet),\n",
              "// where there are multiple asynchronous steps and the Python side is going\n",
              "// to poll for completion of each step.\n",
              "// This uses a Promise to block the python side on completion of each step,\n",
              "// then passes the result of the previous step as the input to the next step.\n",
              "function _uploadFilesContinue(outputId) {\n",
              "  const outputElement = document.getElementById(outputId);\n",
              "  const steps = outputElement.steps;\n",
              "\n",
              "  const next = steps.next(outputElement.lastPromiseValue);\n",
              "  return Promise.resolve(next.value.promise).then((value) => {\n",
              "    // Cache the last promise value to make it available to the next\n",
              "    // step of the generator.\n",
              "    outputElement.lastPromiseValue = value;\n",
              "    return next.value.response;\n",
              "  });\n",
              "}\n",
              "\n",
              "/**\n",
              " * Generator function which is called between each async step of the upload\n",
              " * process.\n",
              " * @param {string} inputId Element ID of the input file picker element.\n",
              " * @param {string} outputId Element ID of the output display.\n",
              " * @return {!Iterable<!Object>} Iterable of next steps.\n",
              " */\n",
              "function* uploadFilesStep(inputId, outputId) {\n",
              "  const inputElement = document.getElementById(inputId);\n",
              "  inputElement.disabled = false;\n",
              "\n",
              "  const outputElement = document.getElementById(outputId);\n",
              "  outputElement.innerHTML = '';\n",
              "\n",
              "  const pickedPromise = new Promise((resolve) => {\n",
              "    inputElement.addEventListener('change', (e) => {\n",
              "      resolve(e.target.files);\n",
              "    });\n",
              "  });\n",
              "\n",
              "  const cancel = document.createElement('button');\n",
              "  inputElement.parentElement.appendChild(cancel);\n",
              "  cancel.textContent = 'Cancel upload';\n",
              "  const cancelPromise = new Promise((resolve) => {\n",
              "    cancel.onclick = () => {\n",
              "      resolve(null);\n",
              "    };\n",
              "  });\n",
              "\n",
              "  // Wait for the user to pick the files.\n",
              "  const files = yield {\n",
              "    promise: Promise.race([pickedPromise, cancelPromise]),\n",
              "    response: {\n",
              "      action: 'starting',\n",
              "    }\n",
              "  };\n",
              "\n",
              "  cancel.remove();\n",
              "\n",
              "  // Disable the input element since further picks are not allowed.\n",
              "  inputElement.disabled = true;\n",
              "\n",
              "  if (!files) {\n",
              "    return {\n",
              "      response: {\n",
              "        action: 'complete',\n",
              "      }\n",
              "    };\n",
              "  }\n",
              "\n",
              "  for (const file of files) {\n",
              "    const li = document.createElement('li');\n",
              "    li.append(span(file.name, {fontWeight: 'bold'}));\n",
              "    li.append(span(\n",
              "        `(${file.type || 'n/a'}) - ${file.size} bytes, ` +\n",
              "        `last modified: ${\n",
              "            file.lastModifiedDate ? file.lastModifiedDate.toLocaleDateString() :\n",
              "                                    'n/a'} - `));\n",
              "    const percent = span('0% done');\n",
              "    li.appendChild(percent);\n",
              "\n",
              "    outputElement.appendChild(li);\n",
              "\n",
              "    const fileDataPromise = new Promise((resolve) => {\n",
              "      const reader = new FileReader();\n",
              "      reader.onload = (e) => {\n",
              "        resolve(e.target.result);\n",
              "      };\n",
              "      reader.readAsArrayBuffer(file);\n",
              "    });\n",
              "    // Wait for the data to be ready.\n",
              "    let fileData = yield {\n",
              "      promise: fileDataPromise,\n",
              "      response: {\n",
              "        action: 'continue',\n",
              "      }\n",
              "    };\n",
              "\n",
              "    // Use a chunked sending to avoid message size limits. See b/62115660.\n",
              "    let position = 0;\n",
              "    do {\n",
              "      const length = Math.min(fileData.byteLength - position, MAX_PAYLOAD_SIZE);\n",
              "      const chunk = new Uint8Array(fileData, position, length);\n",
              "      position += length;\n",
              "\n",
              "      const base64 = btoa(String.fromCharCode.apply(null, chunk));\n",
              "      yield {\n",
              "        response: {\n",
              "          action: 'append',\n",
              "          file: file.name,\n",
              "          data: base64,\n",
              "        },\n",
              "      };\n",
              "\n",
              "      let percentDone = fileData.byteLength === 0 ?\n",
              "          100 :\n",
              "          Math.round((position / fileData.byteLength) * 100);\n",
              "      percent.textContent = `${percentDone}% done`;\n",
              "\n",
              "    } while (position < fileData.byteLength);\n",
              "  }\n",
              "\n",
              "  // All done.\n",
              "  yield {\n",
              "    response: {\n",
              "      action: 'complete',\n",
              "    }\n",
              "  };\n",
              "}\n",
              "\n",
              "scope.google = scope.google || {};\n",
              "scope.google.colab = scope.google.colab || {};\n",
              "scope.google.colab._files = {\n",
              "  _uploadFiles,\n",
              "  _uploadFilesContinue,\n",
              "};\n",
              "})(self);\n",
              "</script> "
            ]
          },
          "metadata": {}
        },
        {
          "output_type": "error",
          "ename": "KeyboardInterrupt",
          "evalue": "ignored",
          "traceback": [
            "\u001b[0;31m---------------------------------------------------------------------------\u001b[0m",
            "\u001b[0;31mKeyboardInterrupt\u001b[0m                         Traceback (most recent call last)",
            "\u001b[0;32m<ipython-input-238-93ca41da2e79>\u001b[0m in \u001b[0;36m<module>\u001b[0;34m\u001b[0m\n\u001b[1;32m      1\u001b[0m \u001b[0;32mfrom\u001b[0m \u001b[0mnumpy\u001b[0m \u001b[0;32mimport\u001b[0m \u001b[0mload\u001b[0m \u001b[0;32mas\u001b[0m \u001b[0mload_npy\u001b[0m\u001b[0;34m\u001b[0m\u001b[0;34m\u001b[0m\u001b[0m\n\u001b[1;32m      2\u001b[0m \u001b[0;32mfrom\u001b[0m \u001b[0mgoogle\u001b[0m\u001b[0;34m.\u001b[0m\u001b[0mcolab\u001b[0m \u001b[0;32mimport\u001b[0m \u001b[0mfiles\u001b[0m\u001b[0;34m\u001b[0m\u001b[0;34m\u001b[0m\u001b[0m\n\u001b[0;32m----> 3\u001b[0;31m \u001b[0mfiles\u001b[0m\u001b[0;34m.\u001b[0m\u001b[0mupload\u001b[0m\u001b[0;34m(\u001b[0m\u001b[0;34m)\u001b[0m\u001b[0;34m\u001b[0m\u001b[0;34m\u001b[0m\u001b[0m\n\u001b[0m",
            "\u001b[0;32m/usr/local/lib/python3.8/dist-packages/google/colab/files.py\u001b[0m in \u001b[0;36mupload\u001b[0;34m()\u001b[0m\n\u001b[1;32m     65\u001b[0m   \"\"\"\n\u001b[1;32m     66\u001b[0m \u001b[0;34m\u001b[0m\u001b[0m\n\u001b[0;32m---> 67\u001b[0;31m   \u001b[0muploaded_files\u001b[0m \u001b[0;34m=\u001b[0m \u001b[0m_upload_files\u001b[0m\u001b[0;34m(\u001b[0m\u001b[0mmultiple\u001b[0m\u001b[0;34m=\u001b[0m\u001b[0;32mTrue\u001b[0m\u001b[0;34m)\u001b[0m\u001b[0;34m\u001b[0m\u001b[0;34m\u001b[0m\u001b[0m\n\u001b[0m\u001b[1;32m     68\u001b[0m   \u001b[0;31m# Mapping from original filename to filename as saved locally.\u001b[0m\u001b[0;34m\u001b[0m\u001b[0;34m\u001b[0m\u001b[0;34m\u001b[0m\u001b[0m\n\u001b[1;32m     69\u001b[0m   \u001b[0mlocal_filenames\u001b[0m \u001b[0;34m=\u001b[0m \u001b[0mdict\u001b[0m\u001b[0;34m(\u001b[0m\u001b[0;34m)\u001b[0m\u001b[0;34m\u001b[0m\u001b[0;34m\u001b[0m\u001b[0m\n",
            "\u001b[0;32m/usr/local/lib/python3.8/dist-packages/google/colab/files.py\u001b[0m in \u001b[0;36m_upload_files\u001b[0;34m(multiple)\u001b[0m\n\u001b[1;32m    142\u001b[0m \u001b[0;34m\u001b[0m\u001b[0m\n\u001b[1;32m    143\u001b[0m   \u001b[0;31m# First result is always an indication that the file picker has completed.\u001b[0m\u001b[0;34m\u001b[0m\u001b[0;34m\u001b[0m\u001b[0;34m\u001b[0m\u001b[0m\n\u001b[0;32m--> 144\u001b[0;31m   result = _output.eval_js(\n\u001b[0m\u001b[1;32m    145\u001b[0m       'google.colab._files._uploadFiles(\"{input_id}\", \"{output_id}\")'.format(\n\u001b[1;32m    146\u001b[0m           input_id=input_id, output_id=output_id))\n",
            "\u001b[0;32m/usr/local/lib/python3.8/dist-packages/google/colab/output/_js.py\u001b[0m in \u001b[0;36meval_js\u001b[0;34m(script, ignore_result, timeout_sec)\u001b[0m\n\u001b[1;32m     38\u001b[0m   \u001b[0;32mif\u001b[0m \u001b[0mignore_result\u001b[0m\u001b[0;34m:\u001b[0m\u001b[0;34m\u001b[0m\u001b[0;34m\u001b[0m\u001b[0m\n\u001b[1;32m     39\u001b[0m     \u001b[0;32mreturn\u001b[0m\u001b[0;34m\u001b[0m\u001b[0;34m\u001b[0m\u001b[0m\n\u001b[0;32m---> 40\u001b[0;31m   \u001b[0;32mreturn\u001b[0m \u001b[0m_message\u001b[0m\u001b[0;34m.\u001b[0m\u001b[0mread_reply_from_input\u001b[0m\u001b[0;34m(\u001b[0m\u001b[0mrequest_id\u001b[0m\u001b[0;34m,\u001b[0m \u001b[0mtimeout_sec\u001b[0m\u001b[0;34m)\u001b[0m\u001b[0;34m\u001b[0m\u001b[0;34m\u001b[0m\u001b[0m\n\u001b[0m\u001b[1;32m     41\u001b[0m \u001b[0;34m\u001b[0m\u001b[0m\n\u001b[1;32m     42\u001b[0m \u001b[0;34m\u001b[0m\u001b[0m\n",
            "\u001b[0;32m/usr/local/lib/python3.8/dist-packages/google/colab/_message.py\u001b[0m in \u001b[0;36mread_reply_from_input\u001b[0;34m(message_id, timeout_sec)\u001b[0m\n\u001b[1;32m     95\u001b[0m     \u001b[0mreply\u001b[0m \u001b[0;34m=\u001b[0m \u001b[0m_read_next_input_message\u001b[0m\u001b[0;34m(\u001b[0m\u001b[0;34m)\u001b[0m\u001b[0;34m\u001b[0m\u001b[0;34m\u001b[0m\u001b[0m\n\u001b[1;32m     96\u001b[0m     \u001b[0;32mif\u001b[0m \u001b[0mreply\u001b[0m \u001b[0;34m==\u001b[0m \u001b[0m_NOT_READY\u001b[0m \u001b[0;32mor\u001b[0m \u001b[0;32mnot\u001b[0m \u001b[0misinstance\u001b[0m\u001b[0;34m(\u001b[0m\u001b[0mreply\u001b[0m\u001b[0;34m,\u001b[0m \u001b[0mdict\u001b[0m\u001b[0;34m)\u001b[0m\u001b[0;34m:\u001b[0m\u001b[0;34m\u001b[0m\u001b[0;34m\u001b[0m\u001b[0m\n\u001b[0;32m---> 97\u001b[0;31m       \u001b[0mtime\u001b[0m\u001b[0;34m.\u001b[0m\u001b[0msleep\u001b[0m\u001b[0;34m(\u001b[0m\u001b[0;36m0.025\u001b[0m\u001b[0;34m)\u001b[0m\u001b[0;34m\u001b[0m\u001b[0;34m\u001b[0m\u001b[0m\n\u001b[0m\u001b[1;32m     98\u001b[0m       \u001b[0;32mcontinue\u001b[0m\u001b[0;34m\u001b[0m\u001b[0;34m\u001b[0m\u001b[0m\n\u001b[1;32m     99\u001b[0m     if (reply.get('type') == 'colab_reply' and\n",
            "\u001b[0;31mKeyboardInterrupt\u001b[0m: "
          ]
        }
      ]
    },
    {
      "cell_type": "code",
      "source": [
        "# WRITE HERE THE TEST \n",
        "img_bag = np.load('Sandal_5.npy')\n",
        "img1 = img_bag/255\n",
        "img1 = img1.reshape(1,28*28)\n",
        "img1 = torch.from_numpy(img1).type(torch.FloatTensor)\n",
        "predicted_label = model_multi_Ex2.predict(img1)"
      ],
      "metadata": {
        "id": "Y7SBK56880aY"
      },
      "execution_count": null,
      "outputs": []
    },
    {
      "cell_type": "code",
      "source": [
        "img_dress = np.load('Sneaker_7.npy')\n",
        "img1 = img_dress/255\n",
        "img1 = img1.reshape(1,28*28)\n",
        "img1 = torch.from_numpy(img1).type(torch.FloatTensor)\n",
        "predicted_label = model_multi_Ex2.predict(img1)"
      ],
      "metadata": {
        "id": "jspuk1z34r8U"
      },
      "execution_count": null,
      "outputs": []
    },
    {
      "cell_type": "code",
      "source": [
        "img_dress = np.load('Dress_3.npy')\n",
        "img1 = img_dress/255\n",
        "img1 = img1.reshape(1,28*28)\n",
        "img1 = torch.from_numpy(img1).type(torch.FloatTensor)\n",
        "predicted_label = model_multi_Ex2.predict(img1)"
      ],
      "metadata": {
        "id": "JWbtDV2g4xYR"
      },
      "execution_count": null,
      "outputs": []
    }
  ]
}